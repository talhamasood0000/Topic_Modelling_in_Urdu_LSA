{
  "nbformat": 4,
  "nbformat_minor": 0,
  "metadata": {
    "colab": {
      "name": "Topic_Modelling_In_Urdu_LSA.ipynb",
      "provenance": [],
      "collapsed_sections": [],
      "toc_visible": true
    },
    "kernelspec": {
      "name": "python3",
      "display_name": "Python 3"
    },
    "language_info": {
      "name": "python"
    }
  },
  "cells": [
    {
      "cell_type": "markdown",
      "metadata": {
        "id": "QpS4n9cCptnG"
      },
      "source": [
        "##Topic Modelling in Urdu by using LSA model\n",
        "In this notebook we are going to implement LSA (Latent Semantic Analysis) model for urdu language."
      ]
    },
    {
      "cell_type": "markdown",
      "metadata": {
        "id": "O0N9NikpqSGt"
      },
      "source": [
        "#Mounting Google Drive with Collaboratory\n",
        "If your dataset is present in google drive then do this step and join your google drive with collaboratory."
      ]
    },
    {
      "cell_type": "code",
      "metadata": {
        "colab": {
          "base_uri": "https://localhost:8080/"
        },
        "id": "QPk_VKA4_Fzd",
        "outputId": "030b79a2-7bb4-4f64-8330-3e38009c31d1"
      },
      "source": [
        "from google.colab import drive\n",
        "drive.mount('/content/gdrive')"
      ],
      "execution_count": null,
      "outputs": [
        {
          "output_type": "stream",
          "name": "stdout",
          "text": [
            "Drive already mounted at /content/gdrive; to attempt to forcibly remount, call drive.mount(\"/content/gdrive\", force_remount=True).\n"
          ]
        }
      ]
    },
    {
      "cell_type": "markdown",
      "metadata": {
        "id": "abmmbU2utCl4"
      },
      "source": [
        "##Importing Dependencicies\n",
        "We will import the required libraries which we are going to work in this notebook. Some of the libraries will be imported later as we build the model."
      ]
    },
    {
      "cell_type": "code",
      "metadata": {
        "colab": {
          "base_uri": "https://localhost:8080/"
        },
        "id": "MaB6qj7W_JaL",
        "outputId": "cb521da3-4cc5-4edc-bc26-4077a98bba94"
      },
      "source": [
        "import pandas as pd\n",
        "import numpy as np\n",
        "import re"
      ],
      "execution_count": null,
      "outputs": [
        {
          "output_type": "stream",
          "name": "stderr",
          "text": [
            "/usr/local/lib/python3.7/dist-packages/IPython/core/interactiveshell.py:2718: DtypeWarning: Columns (0) have mixed types.Specify dtype option on import or set low_memory=False.\n",
            "  interactivity=interactivity, compiler=compiler, result=result)\n"
          ]
        }
      ]
    },
    {
      "cell_type": "markdown",
      "metadata": {
        "id": "97BDs0oktZqZ"
      },
      "source": [
        "##Peeking the data\n",
        "\n",
        "The we are going to reda csv file contaning more than 1 Million news from different sources related to different categories.\n",
        "\n",
        "df.head() will print the firt 5 rows of the dataset."
      ]
    },
    {
      "cell_type": "code",
      "metadata": {
        "colab": {
          "base_uri": "https://localhost:8080/",
          "height": 306
        },
        "id": "LZT8WGYz_N5v",
        "outputId": "b4b299b7-72c3-49f8-ddd1-e10599bb8426"
      },
      "source": [
        "df = pd.read_csv('/content/gdrive/MyDrive/Dataset(Colab)/UrduTopicModelling/urdu-news-dataset-1M.csv',encoding='utf-8')\n",
        "df.head()"
      ],
      "execution_count": null,
      "outputs": [
        {
          "output_type": "execute_result",
          "data": {
            "text/html": [
              "<div>\n",
              "<style scoped>\n",
              "    .dataframe tbody tr th:only-of-type {\n",
              "        vertical-align: middle;\n",
              "    }\n",
              "\n",
              "    .dataframe tbody tr th {\n",
              "        vertical-align: top;\n",
              "    }\n",
              "\n",
              "    .dataframe thead th {\n",
              "        text-align: right;\n",
              "    }\n",
              "</style>\n",
              "<table border=\"1\" class=\"dataframe\">\n",
              "  <thead>\n",
              "    <tr style=\"text-align: right;\">\n",
              "      <th></th>\n",
              "      <th>Index</th>\n",
              "      <th>Headline</th>\n",
              "      <th>News Text</th>\n",
              "      <th>Category</th>\n",
              "      <th>Date</th>\n",
              "      <th>URL</th>\n",
              "      <th>Source</th>\n",
              "      <th>News length</th>\n",
              "    </tr>\n",
              "  </thead>\n",
              "  <tbody>\n",
              "    <tr>\n",
              "      <th>0</th>\n",
              "      <td>0</td>\n",
              "      <td>عالمی بینک عسکریت پسندی سے متاثرہ خاندانوں کی ...</td>\n",
              "      <td>اسلام باد عالمی بینک خیبرپختونخوا کے قبائلی اض...</td>\n",
              "      <td>Business &amp; Economics</td>\n",
              "      <td>12/6/2020</td>\n",
              "      <td>https://www.dawnnews.tv/news/1148499/</td>\n",
              "      <td>Dawn News</td>\n",
              "      <td>1854.0</td>\n",
              "    </tr>\n",
              "    <tr>\n",
              "      <th>1</th>\n",
              "      <td>1</td>\n",
              "      <td>مالی سال 2020 ریٹرن فائل کرنے والوں کی تعداد م...</td>\n",
              "      <td>اسلام باد فیڈرل بورڈ ریونیو ایف بی نے دسمبر کی...</td>\n",
              "      <td>Business &amp; Economics</td>\n",
              "      <td>12/6/2020</td>\n",
              "      <td>https://www.dawnnews.tv/news/1148498/</td>\n",
              "      <td>Dawn News</td>\n",
              "      <td>2016.0</td>\n",
              "    </tr>\n",
              "    <tr>\n",
              "      <th>2</th>\n",
              "      <td>2</td>\n",
              "      <td>جاپان کو سندھ کے خصوصی اقتصادی زون میں سرمایہ ...</td>\n",
              "      <td>اسلام باد بورڈ انویسٹمنٹ بی او ئی کے چیئرمین ع...</td>\n",
              "      <td>Business &amp; Economics</td>\n",
              "      <td>12/5/2020</td>\n",
              "      <td>https://www.dawnnews.tv/news/1148433/</td>\n",
              "      <td>Dawn News</td>\n",
              "      <td>2195.0</td>\n",
              "    </tr>\n",
              "    <tr>\n",
              "      <th>3</th>\n",
              "      <td>3</td>\n",
              "      <td>برامدات 767 فیصد بڑھ کر ارب 16 کروڑ ڈالر سے زائد</td>\n",
              "      <td>اسلام اباد پاکستان میں ماہ نومبر میں مسلسل تیس...</td>\n",
              "      <td>Business &amp; Economics</td>\n",
              "      <td>12/5/2020</td>\n",
              "      <td>https://www.dawnnews.tv/news/1148430/</td>\n",
              "      <td>Dawn News</td>\n",
              "      <td>2349.0</td>\n",
              "    </tr>\n",
              "    <tr>\n",
              "      <th>4</th>\n",
              "      <td>4</td>\n",
              "      <td>کے الیکٹرک کو اضافی بجلی گیس کی فراہمی کے قانو...</td>\n",
              "      <td>اسلام باد نیشنل ٹرانسمیشن اینڈ ڈسپیچ کمپنی این...</td>\n",
              "      <td>Business &amp; Economics</td>\n",
              "      <td>12/5/2020</td>\n",
              "      <td>https://www.dawnnews.tv/news/1148421/</td>\n",
              "      <td>Dawn News</td>\n",
              "      <td>2655.0</td>\n",
              "    </tr>\n",
              "  </tbody>\n",
              "</table>\n",
              "</div>"
            ],
            "text/plain": [
              "  Index  ... News length\n",
              "0     0  ...      1854.0\n",
              "1     1  ...      2016.0\n",
              "2     2  ...      2195.0\n",
              "3     3  ...      2349.0\n",
              "4     4  ...      2655.0\n",
              "\n",
              "[5 rows x 8 columns]"
            ]
          },
          "metadata": {},
          "execution_count": 102
        }
      ]
    },
    {
      "cell_type": "markdown",
      "metadata": {
        "id": "VxBoR9G-t23k"
      },
      "source": [
        "##Preprocessing of the Dataset\n",
        "\n",
        "We will remove some of the extra columns that we are not going to use "
      ]
    },
    {
      "cell_type": "code",
      "metadata": {
        "id": "pej-5SKX_PpE"
      },
      "source": [
        "data_pre=df.drop(columns=['Index','Date','URL','Source','News length'])\n",
        "data_pre.head()\n",
        "data_pre=data_pre.loc[df['Category'] == 'Business & Economics']"
      ],
      "execution_count": null,
      "outputs": []
    },
    {
      "cell_type": "code",
      "metadata": {
        "colab": {
          "base_uri": "https://localhost:8080/"
        },
        "id": "D2gIGaID_R-y",
        "outputId": "6ab874c0-278c-4347-ef15-03155aa73e8f"
      },
      "source": [
        "data_pre['News Text'] = \\\n",
        "data_pre['News Text'].map(lambda x: re.sub('[,\\\\.!?]', '', str(x)))\n",
        "data_pre['News Text'].head()"
      ],
      "execution_count": null,
      "outputs": [
        {
          "output_type": "execute_result",
          "data": {
            "text/plain": [
              "0    اسلام باد عالمی بینک خیبرپختونخوا کے قبائلی اض...\n",
              "1    اسلام باد فیڈرل بورڈ ریونیو ایف بی نے دسمبر کی...\n",
              "2    اسلام باد بورڈ انویسٹمنٹ بی او ئی کے چیئرمین ع...\n",
              "3    اسلام اباد پاکستان میں ماہ نومبر میں مسلسل تیس...\n",
              "4    اسلام باد نیشنل ٹرانسمیشن اینڈ ڈسپیچ کمپنی این...\n",
              "Name: News Text, dtype: object"
            ]
          },
          "metadata": {},
          "execution_count": 104
        }
      ]
    },
    {
      "cell_type": "code",
      "metadata": {
        "colab": {
          "base_uri": "https://localhost:8080/"
        },
        "id": "UsaE3I49_ZF7",
        "outputId": "7d27a90f-80c9-4ba8-bdca-4b6d699af538"
      },
      "source": [
        "import nltk\n",
        "stopwords=pd.read_csv('/content/gdrive/MyDrive/Dataset(Colab)/UrduTopicModelling/stopwords-ur.txt',names=['List'])\n",
        "# stopwords['List']\n",
        "\n",
        "stopwords_ur=[]\n",
        "for li in stopwords['List']:\n",
        "  stopwords_ur.append(li)\n",
        "stopwords_ur.extend(['میں','سے','کا','نے','کو','بھی'])\n",
        "print(stopwords_ur)"
      ],
      "execution_count": null,
      "outputs": [
        {
          "output_type": "stream",
          "name": "stdout",
          "text": [
            "['آئی', 'آئے', 'آج', 'آخر', 'آخرکبر', 'آدهی', 'آًب', 'آٹھ', 'آیب', 'اة', 'اخبزت', 'اختتبم', 'ادھر', 'ارد', 'اردگرد', 'ارکبى', 'اش', 'اضتعوبل', 'اضتعوبلات', 'اضطرذ', 'اضکب', 'اضکی', 'اضکے', 'اطراف', 'اغیب', 'افراد', 'الگ', 'اور', 'اوًچب', 'اوًچبئی', 'اوًچی', 'اوًچے', 'اى', 'اً', 'اًذر', 'اًہیں', 'اٹھبًب', 'اپٌب', 'اپٌے', 'اچھب', 'اچھی', 'اچھے', 'اکثر', 'اکٹھب', 'اکٹھی', 'اکٹھے', 'اکیلا', 'اکیلی', 'اکیلے', 'اگرچہ', 'اہن', 'ایطے', 'ایک', 'ب', 'ت', 'تبزٍ', 'تت', 'تر', 'ترتیت', 'تریي', 'تعذاد', 'تن', 'تو', 'توبم', 'توہی', 'توہیں', 'تٌہب', 'تک', 'تھب', 'تھوڑا', 'تھوڑی', 'تھوڑے', 'تھی', 'تھے', 'تیي', 'ثب', 'ثبئیں', 'ثبترتیت', 'ثبری', 'ثبرے', 'ثبعث', 'ثبلا', 'ثبلترتیت', 'ثبہر', 'ثدبئے', 'ثرآں', 'ثراں', 'ثرش', 'ثعذ', 'ثغیر', 'ثلٌذ', 'ثلٌذوثبلا', 'ثلکہ', 'ثي', 'ثٌب', 'ثٌبرہب', 'ثٌبرہی', 'ثٌبرہے', 'ثٌبًب', 'ثٌذ', 'ثٌذکرو', 'ثٌذکرًب', 'ثٌذی', 'ثڑا', 'ثڑوں', 'ثڑی', 'ثڑے', 'ثھر', 'ثھرا', 'ثھراہوا', 'ثھرپور', 'ثھی', 'ثہت', 'ثہتر', 'ثہتری', 'ثہتریي', 'ثیچ', 'ج', 'خب', 'خبرہب', 'خبرہی', 'خبرہے', 'خبهوظ', 'خبًب', 'خبًتب', 'خبًتی', 'خبًتے', 'خبًٌب', 'خت', 'ختن', 'خجکہ', 'خص', 'خططرذ', 'خلذی', 'خو', 'خواى', 'خوًہی', 'خوکہ', 'خٌبة', 'خگہ', 'خگہوں', 'خگہیں', 'خیطب', 'خیطبکہ', 'در', 'درخبت', 'درخہ', 'درخے', 'درزقیقت', 'درضت', 'دش', 'دفعہ', 'دلچطپ', 'دلچطپی', 'دلچطپیبں', 'دو', 'دور', 'دوراى', 'دوضرا', 'دوضروں', 'دوضری', 'دوضرے', 'دوًوں', 'دکھبئیں', 'دکھبتب', 'دکھبتی', 'دکھبتے', 'دکھبو', 'دکھبًب', 'دکھبیب', 'دی', 'دیب', 'دیتب', 'دیتی', 'دیتے', 'دیر', 'دیٌب', 'دیکھو', 'دیکھٌب', 'دیکھی', 'دیکھیں', 'دے', 'ر', 'راضتوں', 'راضتہ', 'راضتے', 'رریعہ', 'رریعے', 'رکي', 'رکھ', 'رکھب', 'رکھتب', 'رکھتبہوں', 'رکھتی', 'رکھتے', 'رکھی', 'رکھے', 'رہب', 'رہی', 'رہے', 'ز', 'زبصل', 'زبضر', 'زبل', 'زبلات', 'زبلیہ', 'زصوں', 'زصہ', 'زصے', 'زقبئق', 'زقیتیں', 'زقیقت', 'زکن', 'زکویہ', 'زیبدٍ', 'صبف', 'صسیر', 'صفر', 'صورت', 'صورتسبل', 'صورتوں', 'صورتیں', 'ض', 'ضبت', 'ضبتھ', 'ضبدٍ', 'ضبرا', 'ضبرے', 'ضبل', 'ضبلوں', 'ضت', 'ضرور', 'ضرورت', 'ضروری', 'ضلطلہ', 'ضوچ', 'ضوچب', 'ضوچتب', 'ضوچتی', 'ضوچتے', 'ضوچو', 'ضوچٌب', 'ضوچی', 'ضوچیں', 'ضکب', 'ضکتب', 'ضکتی', 'ضکتے', 'ضکٌب', 'ضکی', 'ضکے', 'ضیذھب', 'ضیذھی', 'ضیذھے', 'ضیکٌڈ', 'ضے', 'طرف', 'طریق', 'طریقوں', 'طریقہ', 'طریقے', 'طور', 'طورپر', 'ظبہر', 'ع', 'عذد', 'عظین', 'علاقوں', 'علاقہ', 'علاقے', 'علاوٍ', 'عووهی', 'غبیذ', 'غخص', 'غذ', 'غروع', 'غروعبت', 'غے', 'فرد', 'فی', 'ق', 'قجل', 'قجیلہ', 'قطن', 'لئے', 'لا', 'لازهی', 'لو', 'لوجب', 'لوجی', 'لوجے', 'لوسبت', 'لوسہ', 'لوگ', 'لوگوں', 'لڑکپي', 'لگتب', 'لگتی', 'لگتے', 'لگٌب', 'لگی', 'لگیں', 'لگے', 'لی', 'لیب', 'لیٌب', 'لیں', 'لے', 'ه', 'هتعلق', 'هختلف', 'هسترم', 'هسترهہ', 'هسطوش', 'هسیذ', 'هطئلہ', 'هطئلے', 'هطبئل', 'هطتعول', 'هطلق', 'هعلوم', 'هػتول', 'هلا', 'هوکي', 'هوکٌبت', 'هوکٌہ', 'هٌبضت', 'هڑا', 'هڑًب', 'هڑے', 'هکول', 'هگر', 'هہرثبى', 'هیرا', 'هیری', 'هیرے', 'هیں', 'و', 'وار', 'والے', 'وٍ', 'ًئی', 'ًئے', 'ًب', 'ًبپطٌذ', 'ًبگسیر', 'ًطجت', 'ًقطہ', 'ًو', 'ًوخواى', 'ًکبلٌب', 'ًکتہ', 'ًہ', 'ًہیں', 'ًیب', 'ًے', 'ٓ آش', 'ٹھیک', 'پبئے', 'پبش', 'پبًب', 'پبًچ', 'پر', 'پراًب', 'پطٌذ', 'پل', 'پورا', 'پوچھب', 'پوچھتب', 'پوچھتی', 'پوچھتے', 'پوچھو', 'پوچھوں', 'پوچھٌب', 'پوچھیں', 'پچھلا', 'پھر', 'پہلا', 'پہلی', 'پہلےضی', 'پہلےضے', 'پہلےضےہی', 'پیع', 'چبر', 'چبہب', 'چبہٌب', 'چبہے', 'چلا', 'چلو', 'چلیں', 'چلے', 'چکب', 'چکی', 'چکیں', 'چکے', 'چھوٹب', 'چھوٹوں', 'چھوٹی', 'چھوٹے', 'چھہ', 'چیسیں', 'ڈھوًڈا', 'ڈھوًڈلیب', 'ڈھوًڈو', 'ڈھوًڈًب', 'ڈھوًڈی', 'ڈھوًڈیں', 'ک', 'کئی', 'کئے', 'کب', 'کبفی', 'کبم', 'کت', 'کجھی', 'کرا', 'کرتب', 'کرتبہوں', 'کرتی', 'کرتے', 'کرتےہو', 'کررہب', 'کررہی', 'کررہے', 'کرو', 'کرًب', 'کریں', 'کرے', 'کطی', 'کل', 'کن', 'کوئی', 'کوتر', 'کورا', 'کوروں', 'کورٍ', 'کورے', 'کوطي', 'کوى', 'کوًطب', 'کوًطی', 'کوًطے', 'کھولا', 'کھولو', 'کھولٌب', 'کھولی', 'کھولیں', 'کھولے', 'کہ', 'کہب', 'کہتب', 'کہتی', 'کہتے', 'کہو', 'کہوں', 'کہٌب', 'کہی', 'کہیں', 'کہے', 'کی', 'کیب', 'کیطب', 'کیطرف', 'کیطے', 'کیلئے', 'کیوًکہ', 'کیوں', 'کیے', 'کے', 'کےثعذ', 'کےرریعے', 'گئی', 'گئے', 'گب', 'گرد', 'گروٍ', 'گروپ', 'گروہوں', 'گٌتی', 'گی', 'گیب', 'گے', 'ہر', 'ہن', 'ہو', 'ہوئی', 'ہوئے', 'ہوا', 'ہوبرا', 'ہوبری', 'ہوبرے', 'ہوتب', 'ہوتی', 'ہوتے', 'ہورہب', 'ہورہی', 'ہورہے', 'ہوضکتب', 'ہوضکتی', 'ہوضکتے', 'ہوًب', 'ہوًی', 'ہوًے', 'ہوچکب', 'ہوچکی', 'ہوچکے', 'ہوگئی', 'ہوگئے', 'ہوگیب', 'ہوں', 'ہی', 'ہیں', 'ہے', 'ی', 'یقیٌی', 'یہ', 'یہبں', 'میں', 'سے', 'کا', 'نے', 'کو', 'بھی']\n"
          ]
        }
      ]
    },
    {
      "cell_type": "code",
      "metadata": {
        "id": "YQ38NqDG_aIk"
      },
      "source": [
        "import gensim\n",
        "from gensim.utils import simple_preprocess\n",
        "def sent_to_words(sentences):\n",
        "    for sentence in sentences:\n",
        "        # deacc=True removes punctuations\n",
        "        yield(gensim.utils.simple_preprocess(str(sentence), deacc=True))"
      ],
      "execution_count": null,
      "outputs": []
    },
    {
      "cell_type": "code",
      "metadata": {
        "colab": {
          "base_uri": "https://localhost:8080/"
        },
        "id": "2aGfSaWK_gfs",
        "outputId": "a335e7f2-5f8d-4be3-9750-6fbca95c0661"
      },
      "source": [
        "data = data_pre['News Text'].values.tolist()\n",
        "print((data[19]))"
      ],
      "execution_count": null,
      "outputs": [
        {
          "output_type": "stream",
          "name": "stdout",
          "text": [
            "ممبئی بھارت کی معیشت جولائی اور ستمبر کے دوران 75 فیصد سکڑنے سے بدترین کارکردگی کا مظاہرہ کرنے والی بڑی ترقی یافتہ اور ابھرتی ہوئی معیشتوں میں شامل ہوگئی کیونکہ یہ ازادی کے بعد پہلی مرتبہ تکنیکی کساد بازاری میں داخل ہوئی ہےڈان اخبار میں شائع فرانسیسی خبررساں ادارے اے ایف پی کی رپورٹ میں بتایا گیا کہ سرکاری اعداد شمار ظاہر کرتے ہیں کہ معیشت کساد بازاری میں داخل ہوگئی ہےاگرچہ گزشتہ سہ ماہی میں ریکارڈ 239 فیصد سکڑنے کے مقابلے میں اعداد شمار میں بہتری تھی تاہم یہ اس طرف اشارہ کرتے ہیں کہ ایشیا کی تیسری بڑی معیشت سخت مقابلہ کر رہی ہے کیونکہ یہ طلب کو بحال کرنے اور روزگار پیدا کرنے کی کوششوں میں ہے جبکہ کورونا وائرس کا انفیکشن بڑھ رہا ہےمزید پڑھیں بھارت میں کورونا کی ابتر صورتحال ایک دن میں 90 ہزار سے زائد کیسز رپورٹتاہم مسلسل سہ ماہیوں میں معیشت کے سکڑنے کا مطلب ہے کہ ملک 1947 کے بعد سے پہلی مرتبہ تکنیکی کساد بزاری میں داخل ہوگیا ہےوائرس سے متعلق لاک ڈانز سے ہونے والی عالمی تباہی کے بعد امریکا جاپان اور جرمنی سمیت بڑی معیشتوں کی جانب سے 30 ستمبر کو ختم ہونے والی سہ ماہی میں ریکارڈ کی گئی ترقی نے توقعات کو بڑھا دیا ہے کہ بھارت بھی بحالی سے مستفید ہوگااگرچہ اکتوبر اور نومبر میں تہواروں کے سیزن کے باعث صارفین کے کاروبار میں اضافہ دیکھنے میں ایا تاہم تعمیراتی اور مہمان نوازی کے شعبے متاثر ہونے سے وسیع پیمانے پر بحالی کی امیدیں ختم ہوگئیںلاک ڈان کی وجہ سے گزشتہ سہ ماہی میں تقریبا 40 فیصد کمی کے بعد جولائی سے ستمبر کے دوران مینوفکچرنگ کی سرگرمی میں اضافہ ہوا جبکہ کاشتکاری بھی نسبتا بہتر رہیتجزیہ کاروں کا کہنا تھا کہ اعداد شمار حوصلہ افزا ہیں جس سے یہ اندازہ ہوتا ہے کہ اگلی سہ ماہی میں معیشت کی بہتری کا امکان ہوگابروڈا کے اسٹیٹ بینک کے چیف اقتصادیات سمیر نارنگ کا کہنا تھا کہ تمام اشاروں کو دیکھتے ہوئے بھارتی معیشت کے لیے بدترین صورتحال ختم ہوگئی ہم مسلسل بہتری دیکھیں گے اور اگے بڑھیں گےان کا کہنا تھا کہ جمعہ کے اعداد شمار نے فیصد سکڑنے کے بینک کے تخمینے کو غلط ثابت کردیا ساتھ ہی انہوں نے کہا کہ معاشی بحالی کے امکانات تب تک ہیں جب تک انفیکشن بڑھنے پر کوئی نیا لاک ڈان نہیں لگتاکوانٹ ایکو ریسرچ کے ماہر معاشیات وویک کمار کا کہنا تھا کہ مارچ کے اخر میں ہونے والے مہینوں میں طویل لاک ڈان کی وجہ سے فیکٹریوں کی طویل بندش کے خاتمے کے بعد مینوفکچرنگ میں اضافہ بھارت کے لیے اچھا ہےیہ بھی پڑھیں بھارت کورونا کے کیسز میں اضافے کے بعد متعدد ریاستوں میں دوبارہ لاک ڈان نافذواضح رہے کہ بھارت کے مرکزی بینک کے گورنر شکتی کانتا داس کے گزشتہ ماہ کے جاری کردہ اندازے کے مطابق نئی دہلی نے اپنی اس معیشت کی بحالی کے لیے جدوجہد شروع کی ہے جس کا رواں سال 95 فیصد تک سکڑنے کا امکان ہےوہیں عالمی مالیاتی فنڈ ائی ایم ایف نے پیش گوئی کی ہے کہ بھارت کی معیشت رواں سال 103 فیصد تک سکڑ جائے گی جو کسی بڑی ابھرتی ہوئی معیشت کے لیے سب سے بڑا بحران ہے اور یہ ازادی کے بعد سے بدترین ہےعلاوہ ازیں رواں ماہ کے اوائل میں اکسفورڈ اکنامکس کی جاری کردہ رپورٹ میں کہا گیا تھا کہ وبائی مرض سے لگنے والی پابندیوں میں نرمی کے بعد بھارت کی معیشت بدترین متاثرہ ہوگی اور 2025 تک سالانہ پیداوار وائرس سے پہلے کی سطح سے 12 فیصد کم ہوگی\n"
          ]
        }
      ]
    },
    {
      "cell_type": "code",
      "metadata": {
        "id": "W9RH0mXx_i3o"
      },
      "source": [
        "from sklearn.feature_extraction.text import TfidfVectorizer\n",
        "from sklearn.decomposition import TruncatedSVD"
      ],
      "execution_count": null,
      "outputs": []
    },
    {
      "cell_type": "code",
      "metadata": {
        "colab": {
          "base_uri": "https://localhost:8080/"
        },
        "id": "azgVDJnt_v9d",
        "outputId": "2660a49c-ec38-4378-95d3-86e43038370c"
      },
      "source": [
        "vectorizer=TfidfVectorizer(stop_words=stopwords_ur,use_idf=True,encoding='utf-8')\n",
        "\n",
        "X=vectorizer.fit_transform(data)"
      ],
      "execution_count": null,
      "outputs": [
        {
          "output_type": "stream",
          "name": "stderr",
          "text": [
            "/usr/local/lib/python3.7/dist-packages/sklearn/feature_extraction/text.py:385: UserWarning: Your stop_words may be inconsistent with your preprocessing. Tokenizing the stop words generated tokens ['آش', 'ئی', 'ئے', 'او', 'اٹھب', 'اپ', 'بة', 'بت', 'برہب', 'برہی', 'برہے', 'بضت', 'بپط', 'بگسیر', 'تب', 'تبز', 'تی', 'تے', 'ثل', 'دکھب', 'دیکھ', 'ذر', 'ذوثبلا', 'ذکر', 'ذکرو', 'ذی', 'زیبد', 'ضبد', 'ضک', 'ضیک', 'طب', 'طجت', 'طی', 'طے', 'علاو', 'قطہ', 'لگ', 'هوک', 'هڑ', 'وخواى', 'وں', 'پب', 'پرا', 'پط', 'پوچھ', 'چب', 'چبئی', 'چبہ', 'چی', 'چے', 'ڈا', 'ڈلیب', 'ڈو', 'ڈھو', 'ڈی', 'ڈیں', 'کبل', 'کتہ', 'کر', 'کور', 'کھول', 'کیو', 'گرو', 'ہب', 'یب', 'یقی'] not in stop_words.\n",
            "  'stop_words.' % sorted(inconsistent))\n"
          ]
        }
      ]
    },
    {
      "cell_type": "code",
      "metadata": {
        "colab": {
          "base_uri": "https://localhost:8080/"
        },
        "id": "wjoZhIUtEzfv",
        "outputId": "80577075-0d04-44af-872e-5da571a42d26"
      },
      "source": [
        "print(X.shape)\n",
        "print(X[0])"
      ],
      "execution_count": null,
      "outputs": [
        {
          "output_type": "stream",
          "name": "stdout",
          "text": [
            "(24130, 110797)\n",
            "  (0, 56337)\t0.04411514863716309\n",
            "  (0, 35373)\t0.048804087478820035\n",
            "  (0, 26758)\t0.0546623769929535\n",
            "  (0, 73006)\t0.026956161823694404\n",
            "  (0, 40724)\t0.05012116171917914\n",
            "  (0, 65034)\t0.03935527992009309\n",
            "  (0, 18352)\t0.035753811092527704\n",
            "  (0, 90319)\t0.050782409076755575\n",
            "  (0, 56984)\t0.06719368438140569\n",
            "  (0, 80919)\t0.06777286252021084\n",
            "  (0, 22504)\t0.06811112217053714\n",
            "  (0, 55867)\t0.05400301500253182\n",
            "  (0, 108356)\t0.054245021292081246\n",
            "  (0, 46533)\t0.05404292980444918\n",
            "  (0, 47062)\t0.04211095024085394\n",
            "  (0, 29887)\t0.03721477189311603\n",
            "  (0, 64890)\t0.04096399836569487\n",
            "  (0, 53059)\t0.09138868831180619\n",
            "  (0, 31358)\t0.04267216420863056\n",
            "  (0, 22132)\t0.06957254765639305\n",
            "  (0, 37989)\t0.03726375630069041\n",
            "  (0, 93615)\t0.016225939706425226\n",
            "  (0, 57011)\t0.05161596361903408\n",
            "  (0, 49044)\t0.08147418313158808\n",
            "  (0, 55995)\t0.06364533079073487\n",
            "  :\t:\n",
            "  (0, 58546)\t0.044346389972313466\n",
            "  (0, 62742)\t0.06165568261275348\n",
            "  (0, 65647)\t0.047281734317677765\n",
            "  (0, 34169)\t0.04752273214241591\n",
            "  (0, 64517)\t0.2296282788462457\n",
            "  (0, 55206)\t0.0885180462247982\n",
            "  (0, 32686)\t0.035563748774758056\n",
            "  (0, 55508)\t0.08744672496806541\n",
            "  (0, 31683)\t0.10958238127329803\n",
            "  (0, 29423)\t0.04482621086908159\n",
            "  (0, 38900)\t0.039929865536608995\n",
            "  (0, 40566)\t0.06214394888381143\n",
            "  (0, 63709)\t0.05735053341524199\n",
            "  (0, 29436)\t0.03743361815663762\n",
            "  (0, 104506)\t0.0647525451350725\n",
            "  (0, 80253)\t0.03421064650317274\n",
            "  (0, 78466)\t0.07479265265106261\n",
            "  (0, 56791)\t0.08573319057537808\n",
            "  (0, 20382)\t0.32522557573764826\n",
            "  (0, 59503)\t0.1268622256880135\n",
            "  (0, 41437)\t0.15852341275484544\n",
            "  (0, 33004)\t0.09918802224592733\n",
            "  (0, 56526)\t0.13708662013306164\n",
            "  (0, 28187)\t0.027382024025756294\n",
            "  (0, 19226)\t0.01977718461418776\n"
          ]
        }
      ]
    },
    {
      "cell_type": "code",
      "metadata": {
        "colab": {
          "base_uri": "https://localhost:8080/"
        },
        "id": "FzQPVWQrHH9G",
        "outputId": "e810f0fe-6a77-408c-e022-8975f348f9ec"
      },
      "source": [
        "lsa=TruncatedSVD(n_components=68, n_iter=100)\n",
        "lsa.fit(X)"
      ],
      "execution_count": null,
      "outputs": [
        {
          "output_type": "execute_result",
          "data": {
            "text/plain": [
              "TruncatedSVD(algorithm='randomized', n_components=68, n_iter=100,\n",
              "             random_state=None, tol=0.0)"
            ]
          },
          "metadata": {},
          "execution_count": 111
        }
      ]
    },
    {
      "cell_type": "code",
      "metadata": {
        "colab": {
          "base_uri": "https://localhost:8080/"
        },
        "id": "plFUlL5iHKKr",
        "outputId": "2cebafbf-be03-4508-f3d8-c063387a85e9"
      },
      "source": [
        "print(len(lsa.components_))\n",
        "print(len(lsa.components_[0])) #lsa.components_ has 68 element and each element has further 214488 elements in it\n",
        "\n",
        "# import numpy as np\n",
        "# num_array=np.array(lsa.components_)\n",
        "# print(np.sum(num_array))"
      ],
      "execution_count": null,
      "outputs": [
        {
          "output_type": "stream",
          "name": "stdout",
          "text": [
            "68\n",
            "110797\n"
          ]
        }
      ]
    },
    {
      "cell_type": "code",
      "metadata": {
        "colab": {
          "base_uri": "https://localhost:8080/"
        },
        "id": "3grxLiOoHMW4",
        "outputId": "aceb96a2-6c7d-4ffa-efd1-3a5158a71813"
      },
      "source": [
        "terms=vectorizer.get_feature_names() #it extracts all the actual words corresponding to the id\n",
        "# print(len(terms))\n",
        "for i,comp in enumerate(lsa.components_):\n",
        "  termsInComp=zip(terms,comp) #map the 2 arrays(one array with TF-IDF Scores and other with corresponding word)\n",
        "  sortedTerms=sorted(termsInComp, key=lambda x:x[1], reverse=True) [:10] #sorting to get maximum TF-IDF first and only taking first 10 values of it\n",
        "  print(\"Concept:\",i)\n",
        "  for term in sortedTerms:\n",
        "    print(term[0])\n",
        "  print(\" \")\n",
        "  if i==5:\n",
        "    break\n"
      ],
      "execution_count": null,
      "outputs": [
        {
          "output_type": "stream",
          "name": "stdout",
          "text": [
            "Concept: 0\n",
            "روپے\n",
            "ڈالر\n",
            "قیمت\n",
            "ارب\n",
            "کمی\n",
            "مارکیٹ\n",
            "پاکستان\n",
            "فیصد\n",
            "پیسے\n",
            "ہزار\n",
            " \n",
            "Concept: 1\n",
            "سونے\n",
            "مارکیٹ\n",
            "قیمت\n",
            "روپے\n",
            "پوائنٹس\n",
            "پیسے\n",
            "انڈیکس\n",
            "ڈالر\n",
            "تولہ\n",
            "ہزار\n",
            " \n",
            "Concept: 2\n",
            "قیمت\n",
            "روپے\n",
            "جی\n",
            "این\n",
            "سونے\n",
            "پیسے\n",
            "گیس\n",
            "سی\n",
            "لیٹر\n",
            "قیمتوں\n",
            " \n",
            "Concept: 3\n",
            "این\n",
            "جی\n",
            "سی\n",
            "گیس\n",
            "پوائنٹس\n",
            "انڈیکس\n",
            "اسٹیشنز\n",
            "بند\n",
            "اسٹاک\n",
            "صبح\n",
            " \n",
            "Concept: 4\n",
            "لیٹر\n",
            "ڈیزل\n",
            "پیسے\n",
            "مصنوعات\n",
            "قیمتوں\n",
            "پوائنٹس\n",
            "پیٹرولیم\n",
            "انڈیکس\n",
            "پیٹرول\n",
            "ٹیکس\n",
            " \n",
            "Concept: 5\n",
            "سونے\n",
            "ٹیکس\n",
            "تولہ\n",
            "ایف\n",
            "صرافہ\n",
            "گرام\n",
            "ہزار\n",
            "بی\n",
            "اونس\n",
            "سونا\n",
            " \n"
          ]
        }
      ]
    }
  ]
}