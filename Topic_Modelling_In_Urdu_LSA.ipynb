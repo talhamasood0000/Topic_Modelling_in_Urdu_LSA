{
  "nbformat": 4,
  "nbformat_minor": 0,
  "metadata": {
    "colab": {
      "name": "Topic_Modelling_In_Urdu_LSA.ipynb",
      "provenance": [],
      "collapsed_sections": [],
      "toc_visible": true
    },
    "kernelspec": {
      "name": "python3",
      "display_name": "Python 3"
    },
    "language_info": {
      "name": "python"
    }
  },
  "cells": [
    {
      "cell_type": "markdown",
      "metadata": {
        "id": "QpS4n9cCptnG"
      },
      "source": [
        "#Topic Modelling in Urdu by using LSA model\n",
        "In this notebook we are going to implement LSA (Latent Semantic Analysis) model for urdu language."
      ]
    },
    {
      "cell_type": "markdown",
      "metadata": {
        "id": "O0N9NikpqSGt"
      },
      "source": [
        "##Mounting Google Drive with Collaboratory\n",
        "If your dataset is present in google drive then do this step and join your google drive with collaboratory."
      ]
    },
    {
      "cell_type": "code",
      "metadata": {
        "colab": {
          "base_uri": "https://localhost:8080/"
        },
        "id": "QPk_VKA4_Fzd",
        "outputId": "829b2018-e77e-4258-90f4-2ef14bfa428a"
      },
      "source": [
        "from google.colab import drive\n",
        "drive.mount('/content/gdrive')"
      ],
      "execution_count": 1,
      "outputs": [
        {
          "output_type": "stream",
          "name": "stdout",
          "text": [
            "Mounted at /content/gdrive\n"
          ]
        }
      ]
    },
    {
      "cell_type": "markdown",
      "metadata": {
        "id": "abmmbU2utCl4"
      },
      "source": [
        "##Importing Dependencicies\n",
        "We will import the required libraries which we are going to work in this notebook. Some of the libraries will be imported later as we build the model."
      ]
    },
    {
      "cell_type": "code",
      "metadata": {
        "id": "MaB6qj7W_JaL"
      },
      "source": [
        "import pandas as pd\n",
        "import numpy as np\n",
        "import re"
      ],
      "execution_count": 2,
      "outputs": []
    },
    {
      "cell_type": "markdown",
      "metadata": {
        "id": "97BDs0oktZqZ"
      },
      "source": [
        "##Peeking the data\n",
        "\n",
        "The we are going to reda csv file contaning more than 1 Million news from different sources related to different categories.\n",
        "\n",
        "df.head() will print the firt 5 rows of the dataset.\n",
        "\n",
        "[Dataset](https://data.mendeley.com/datasets/834vsxnb99/3)"
      ]
    },
    {
      "cell_type": "code",
      "metadata": {
        "colab": {
          "base_uri": "https://localhost:8080/",
          "height": 445
        },
        "id": "LZT8WGYz_N5v",
        "outputId": "01b0d0e3-0d63-40f1-a21a-c4fcfdab4aa9"
      },
      "source": [
        "df = pd.read_csv('/content/gdrive/MyDrive/Dataset(Colab)/UrduTopicModelling/urdu-news-dataset-1M.csv',encoding='utf-8')\n",
        "df.head()"
      ],
      "execution_count": 3,
      "outputs": [
        {
          "output_type": "stream",
          "name": "stderr",
          "text": [
            "/usr/local/lib/python3.7/dist-packages/IPython/core/interactiveshell.py:2718: DtypeWarning: Columns (0) have mixed types.Specify dtype option on import or set low_memory=False.\n",
            "  interactivity=interactivity, compiler=compiler, result=result)\n"
          ]
        },
        {
          "output_type": "execute_result",
          "data": {
            "text/html": [
              "<div>\n",
              "<style scoped>\n",
              "    .dataframe tbody tr th:only-of-type {\n",
              "        vertical-align: middle;\n",
              "    }\n",
              "\n",
              "    .dataframe tbody tr th {\n",
              "        vertical-align: top;\n",
              "    }\n",
              "\n",
              "    .dataframe thead th {\n",
              "        text-align: right;\n",
              "    }\n",
              "</style>\n",
              "<table border=\"1\" class=\"dataframe\">\n",
              "  <thead>\n",
              "    <tr style=\"text-align: right;\">\n",
              "      <th></th>\n",
              "      <th>Index</th>\n",
              "      <th>Headline</th>\n",
              "      <th>News Text</th>\n",
              "      <th>Category</th>\n",
              "      <th>Date</th>\n",
              "      <th>URL</th>\n",
              "      <th>Source</th>\n",
              "      <th>News length</th>\n",
              "    </tr>\n",
              "  </thead>\n",
              "  <tbody>\n",
              "    <tr>\n",
              "      <th>0</th>\n",
              "      <td>0</td>\n",
              "      <td>عالمی بینک عسکریت پسندی سے متاثرہ خاندانوں کی ...</td>\n",
              "      <td>اسلام باد عالمی بینک خیبرپختونخوا کے قبائلی اض...</td>\n",
              "      <td>Business &amp; Economics</td>\n",
              "      <td>12/6/2020</td>\n",
              "      <td>https://www.dawnnews.tv/news/1148499/</td>\n",
              "      <td>Dawn News</td>\n",
              "      <td>1854.0</td>\n",
              "    </tr>\n",
              "    <tr>\n",
              "      <th>1</th>\n",
              "      <td>1</td>\n",
              "      <td>مالی سال 2020 ریٹرن فائل کرنے والوں کی تعداد م...</td>\n",
              "      <td>اسلام باد فیڈرل بورڈ ریونیو ایف بی نے دسمبر کی...</td>\n",
              "      <td>Business &amp; Economics</td>\n",
              "      <td>12/6/2020</td>\n",
              "      <td>https://www.dawnnews.tv/news/1148498/</td>\n",
              "      <td>Dawn News</td>\n",
              "      <td>2016.0</td>\n",
              "    </tr>\n",
              "    <tr>\n",
              "      <th>2</th>\n",
              "      <td>2</td>\n",
              "      <td>جاپان کو سندھ کے خصوصی اقتصادی زون میں سرمایہ ...</td>\n",
              "      <td>اسلام باد بورڈ انویسٹمنٹ بی او ئی کے چیئرمین ع...</td>\n",
              "      <td>Business &amp; Economics</td>\n",
              "      <td>12/5/2020</td>\n",
              "      <td>https://www.dawnnews.tv/news/1148433/</td>\n",
              "      <td>Dawn News</td>\n",
              "      <td>2195.0</td>\n",
              "    </tr>\n",
              "    <tr>\n",
              "      <th>3</th>\n",
              "      <td>3</td>\n",
              "      <td>برامدات 767 فیصد بڑھ کر ارب 16 کروڑ ڈالر سے زائد</td>\n",
              "      <td>اسلام اباد پاکستان میں ماہ نومبر میں مسلسل تیس...</td>\n",
              "      <td>Business &amp; Economics</td>\n",
              "      <td>12/5/2020</td>\n",
              "      <td>https://www.dawnnews.tv/news/1148430/</td>\n",
              "      <td>Dawn News</td>\n",
              "      <td>2349.0</td>\n",
              "    </tr>\n",
              "    <tr>\n",
              "      <th>4</th>\n",
              "      <td>4</td>\n",
              "      <td>کے الیکٹرک کو اضافی بجلی گیس کی فراہمی کے قانو...</td>\n",
              "      <td>اسلام باد نیشنل ٹرانسمیشن اینڈ ڈسپیچ کمپنی این...</td>\n",
              "      <td>Business &amp; Economics</td>\n",
              "      <td>12/5/2020</td>\n",
              "      <td>https://www.dawnnews.tv/news/1148421/</td>\n",
              "      <td>Dawn News</td>\n",
              "      <td>2655.0</td>\n",
              "    </tr>\n",
              "  </tbody>\n",
              "</table>\n",
              "</div>"
            ],
            "text/plain": [
              "  Index  ... News length\n",
              "0     0  ...      1854.0\n",
              "1     1  ...      2016.0\n",
              "2     2  ...      2195.0\n",
              "3     3  ...      2349.0\n",
              "4     4  ...      2655.0\n",
              "\n",
              "[5 rows x 8 columns]"
            ]
          },
          "metadata": {},
          "execution_count": 3
        }
      ]
    },
    {
      "cell_type": "markdown",
      "metadata": {
        "id": "VxBoR9G-t23k"
      },
      "source": [
        "##Preprocessing of the Dataset\n",
        "\n",
        "We will remove some extra coloumns first like date,source,url and some other columns too. Because we want only news foe now and all other things are extra for us.\n",
        "\n",
        "There are 5 types of news in the data set. If you want, you can use only 1 or 2 types of news in the example. But for this Notebook i am going to take all types of news for Topic Modelling."
      ]
    },
    {
      "cell_type": "code",
      "metadata": {
        "id": "pej-5SKX_PpE",
        "colab": {
          "base_uri": "https://localhost:8080/",
          "height": 204
        },
        "outputId": "aac28d37-d1d5-4934-80c0-0c4ea63d40e8"
      },
      "source": [
        "data_pre=df.drop(columns=['Index','Date','URL','Source','News length'])\n",
        "data_pre.head()\n",
        "# data_pre=data_pre.loc[df['Category'] == 'Business & Economics']"
      ],
      "execution_count": 4,
      "outputs": [
        {
          "output_type": "execute_result",
          "data": {
            "text/html": [
              "<div>\n",
              "<style scoped>\n",
              "    .dataframe tbody tr th:only-of-type {\n",
              "        vertical-align: middle;\n",
              "    }\n",
              "\n",
              "    .dataframe tbody tr th {\n",
              "        vertical-align: top;\n",
              "    }\n",
              "\n",
              "    .dataframe thead th {\n",
              "        text-align: right;\n",
              "    }\n",
              "</style>\n",
              "<table border=\"1\" class=\"dataframe\">\n",
              "  <thead>\n",
              "    <tr style=\"text-align: right;\">\n",
              "      <th></th>\n",
              "      <th>Headline</th>\n",
              "      <th>News Text</th>\n",
              "      <th>Category</th>\n",
              "    </tr>\n",
              "  </thead>\n",
              "  <tbody>\n",
              "    <tr>\n",
              "      <th>0</th>\n",
              "      <td>عالمی بینک عسکریت پسندی سے متاثرہ خاندانوں کی ...</td>\n",
              "      <td>اسلام باد عالمی بینک خیبرپختونخوا کے قبائلی اض...</td>\n",
              "      <td>Business &amp; Economics</td>\n",
              "    </tr>\n",
              "    <tr>\n",
              "      <th>1</th>\n",
              "      <td>مالی سال 2020 ریٹرن فائل کرنے والوں کی تعداد م...</td>\n",
              "      <td>اسلام باد فیڈرل بورڈ ریونیو ایف بی نے دسمبر کی...</td>\n",
              "      <td>Business &amp; Economics</td>\n",
              "    </tr>\n",
              "    <tr>\n",
              "      <th>2</th>\n",
              "      <td>جاپان کو سندھ کے خصوصی اقتصادی زون میں سرمایہ ...</td>\n",
              "      <td>اسلام باد بورڈ انویسٹمنٹ بی او ئی کے چیئرمین ع...</td>\n",
              "      <td>Business &amp; Economics</td>\n",
              "    </tr>\n",
              "    <tr>\n",
              "      <th>3</th>\n",
              "      <td>برامدات 767 فیصد بڑھ کر ارب 16 کروڑ ڈالر سے زائد</td>\n",
              "      <td>اسلام اباد پاکستان میں ماہ نومبر میں مسلسل تیس...</td>\n",
              "      <td>Business &amp; Economics</td>\n",
              "    </tr>\n",
              "    <tr>\n",
              "      <th>4</th>\n",
              "      <td>کے الیکٹرک کو اضافی بجلی گیس کی فراہمی کے قانو...</td>\n",
              "      <td>اسلام باد نیشنل ٹرانسمیشن اینڈ ڈسپیچ کمپنی این...</td>\n",
              "      <td>Business &amp; Economics</td>\n",
              "    </tr>\n",
              "  </tbody>\n",
              "</table>\n",
              "</div>"
            ],
            "text/plain": [
              "                                            Headline  ...              Category\n",
              "0  عالمی بینک عسکریت پسندی سے متاثرہ خاندانوں کی ...  ...  Business & Economics\n",
              "1  مالی سال 2020 ریٹرن فائل کرنے والوں کی تعداد م...  ...  Business & Economics\n",
              "2  جاپان کو سندھ کے خصوصی اقتصادی زون میں سرمایہ ...  ...  Business & Economics\n",
              "3   برامدات 767 فیصد بڑھ کر ارب 16 کروڑ ڈالر سے زائد  ...  Business & Economics\n",
              "4  کے الیکٹرک کو اضافی بجلی گیس کی فراہمی کے قانو...  ...  Business & Economics\n",
              "\n",
              "[5 rows x 3 columns]"
            ]
          },
          "metadata": {},
          "execution_count": 4
        }
      ]
    },
    {
      "cell_type": "markdown",
      "metadata": {
        "id": "9ZmCvGtAxp1O"
      },
      "source": [
        "We are going to remove all the extra ppunctuation marks, new line characters, tab space character and all other special characters from the text using <b>re</b> library"
      ]
    },
    {
      "cell_type": "code",
      "metadata": {
        "colab": {
          "base_uri": "https://localhost:8080/"
        },
        "id": "D2gIGaID_R-y",
        "outputId": "28e37cea-e86b-4e5c-9ec5-78a16a910449"
      },
      "source": [
        "data_pre['News Text'] = \\\n",
        "data_pre['News Text'].map(lambda x: re.sub('[,\\\\.!?]', '', str(x)))\n",
        "data_pre['News Text'].head()"
      ],
      "execution_count": 5,
      "outputs": [
        {
          "output_type": "execute_result",
          "data": {
            "text/plain": [
              "0    اسلام باد عالمی بینک خیبرپختونخوا کے قبائلی اض...\n",
              "1    اسلام باد فیڈرل بورڈ ریونیو ایف بی نے دسمبر کی...\n",
              "2    اسلام باد بورڈ انویسٹمنٹ بی او ئی کے چیئرمین ع...\n",
              "3    اسلام اباد پاکستان میں ماہ نومبر میں مسلسل تیس...\n",
              "4    اسلام باد نیشنل ٹرانسمیشن اینڈ ڈسپیچ کمپنی این...\n",
              "Name: News Text, dtype: object"
            ]
          },
          "metadata": {},
          "execution_count": 5
        }
      ]
    },
    {
      "cell_type": "markdown",
      "metadata": {
        "id": "sCMR90hHywa6"
      },
      "source": [
        "##Stopwords\n",
        "In nltk library there are many individual libraries for stopwords in different languages. If you found stopwords in urdu language in future then import nltk library and download them and use them. Otherwise I have make a stopword library in urdu by combining 3,4 different stopwords libraries. Now my stopword library has more than 900 stopwords in it. This is still not enough but if you want to add more stopwords in it then you can contribute to my github repository.\n",
        "\n",
        "The stopword liibrary i have used is given in my repository which is on the link below:\n",
        "\n",
        "[Stopwords Library](https://github.com/talhamasood0000/Topic_modelling_in_Urdu_LDA)"
      ]
    },
    {
      "cell_type": "code",
      "metadata": {
        "colab": {
          "base_uri": "https://localhost:8080/"
        },
        "id": "UsaE3I49_ZF7",
        "outputId": "e5ca82db-f127-434c-8378-cc1d0c1c72c1"
      },
      "source": [
        "import nltk\n",
        "stopwords=pd.read_csv('/content/gdrive/MyDrive/Dataset(Colab)/UrduTopicModelling/stopwords_updated.txt',names=['List'])\n",
        "# stopwords['List']\n",
        "\n",
        "stopwords_ur=[]\n",
        "for li in stopwords['List']:\n",
        "  stopwords_ur.append(li)\n",
        "\n",
        "print(len(stopwords_ur))"
      ],
      "execution_count": 6,
      "outputs": [
        {
          "output_type": "stream",
          "name": "stdout",
          "text": [
            "907\n"
          ]
        }
      ]
    },
    {
      "cell_type": "markdown",
      "metadata": {
        "id": "GeDi4z4ey0N8"
      },
      "source": [
        "##Gensim\n",
        "\n",
        "Gensim is the library that mainly focuses on Topic Modelling. It has all the models implemented in it and you just have to use them by applying input and parameters"
      ]
    },
    {
      "cell_type": "code",
      "metadata": {
        "id": "YQ38NqDG_aIk"
      },
      "source": [
        "import gensim\n",
        "from gensim.utils import simple_preprocess\n",
        "def sent_to_words(sentences):\n",
        "    for sentence in sentences:\n",
        "        # deacc=True removes punctuations\n",
        "        yield(gensim.utils.simple_preprocess(str(sentence), deacc=True))"
      ],
      "execution_count": 7,
      "outputs": []
    },
    {
      "cell_type": "markdown",
      "metadata": {
        "id": "rUGkUYMbzab9"
      },
      "source": [
        "The data variable is an arry in which each index is 1 news."
      ]
    },
    {
      "cell_type": "code",
      "metadata": {
        "colab": {
          "base_uri": "https://localhost:8080/"
        },
        "id": "2aGfSaWK_gfs",
        "outputId": "21d17edf-e8c0-42e2-89f3-c86790dd2c4c"
      },
      "source": [
        "data = data_pre['News Text'].values.tolist()\n",
        "print((data[2000]))"
      ],
      "execution_count": 20,
      "outputs": [
        {
          "output_type": "stream",
          "name": "stdout",
          "text": [
            "کراچی حکومت کی جانب سے سلیب کے ذریعے گیس کی قیمتوں میں رد بدل کو برامد کنندہ کمیونٹی کی جانب سے اجتماعی طور پر سراہا گیا ہےڈان اخبار کی رپورٹ کے مطابق ڈان سے بات کرتے ہوئے برامد کنندہ کمیونٹی کی جانب سے حکومتی فیصلے پر اطمینان کا اظہار کیا گیا کیونکہ گزشتہ برسوں سے کمیونٹی کی جانب سے گیس کی ریجنل قیمتیں برابر کرنے کے ساتھ ساتھ اسے مسابقتی بنانے کے لیے ٹیرف کم کرنے کا مطالبہ کیا جاتا رہا ہےتاہم برامد کنندہ کمیونٹی کے یہ دونوں مطالبات حکومت کے اعلان کے بعد پورے ہوتے نظر ارہے ہیں جس پر کمیونٹی کی جانب سے اطمینان کا اظہار کیا گیا ہےمزید پڑھیں متوسط طبقے کیلئے گیس کی قیمتوں میں 10 سے 20 فیصد تک اضافہاس حوالے سے پاکستان اپیرل فورم کے چیئرمین اور کراچی سے کپڑوں کے برامد کنندہ جاوید بلوانی کا کہنا تھا کہ ہم کئی برسوں سے زیرو ریٹڈ برمدی شعبوں کے لیے پانچ علیحدہ سلیبز کا مطالبہ کر رہے تھے اور ہمیں خوشی ہے کہ ہماری بات کو تسلیم کیا گیاخیال رہے کہ کراچی میں کاروبار کرنے والے اس اقدام سے کافی فکر مند تھے کیونکہ پنجاب اور کراچی کی صنعتوں کے درمیان گیس کی قیمتوں میں بڑا فرق کئی عرصے سے ان کے حق میں تھا تاہم انہیں یہ تحفظات تھے کہ حکومت کی جانب سے اس فرق کو ختم کرکے انہیں نقصان پہنچایا جاسکتا ہے لیکن انہوں نے اس امر پر اطمینان کا اظہار کیا کہ ایسا کوئی اقدام نہیں اٹھایا گیادوسری جانب پنجاب سے تعلق رکھنے والے صنعتکار تھوڑی الجھن کا شکار نظر ائے ال پاکستان ٹیکسٹائل ملز ایسوسی ایشن پٹما نے قیمتوں میں رد بدل کو ایک اچھا اقدام قرار دیاپنجاب ریجن کے لیے اپٹما کے سیکریٹری انیس الحق کا کہنا تھا کہ ہمارے لیے قیمتوں میں بڑی کمی ہوئی ہے اور پورے ملک کے لیے یکساں ٹیرف علاقائی فرق کو ختم کرے گاانہوں نے کہا کہ مجھے ٹیکسٹائل برامد کنندگان کے لیے قیمتوں میں بڑی کمی بھی دکھائی دے رہی ہے کیونکہ اس سے پہلے ہم 1400 سے 1500 روپے فی ایم ایم بی ٹی یو ادا کرتے تھے لیکن اب اس میں کمی ہوئی ہے اور یہ 600 روپے تک ہوجائے گاجہاں ایک طرف کچھ اس فیصلے پر اطمینان کا اظہار کر رہے ہیں تو کسی کے لیے یہ اقدام درست ثابت نہیں ہوا ہےفیصل اباد سے تعلق رکھنے والے ایک صنعتکار ضیا علمدار نے نشاندہی کی کہ نیا سلیب ایل این جی پر نہیں صرف گیس نظام پر لاگو ہوگا جبکہ پنجاب کی صنعتوں کو صرف 28 فیصد سسٹم گیس دی جاتے ہےانہوں نے کہا کہ پنجاب میں صنعتوں نے گیس کے شعبے میں کافی سرمایہ کاری کی ہے اور صنعتوں کو بقیہ 72 فیصد درامدی ایل این جی فراہم ہوتی ہے جس کی قیمتوں میں رد بدل نہیں کیا گیا لہذا حکومتی فیصلے سے پنجاب کے برامد کنندگان کے لیے قیمتوں میں کوئی تبدیلی نظر نہیں اتیانہوں نے قیمتوں میں کمی کے اعلان کو دہرا معیار قرار دیتے ہوئے کہا کہ گزشتہ برسوں سے پاکستان مسلم لیگ کی حکومت ہمارے ساتھ یہ کھیل کھیل رہی تھی اور اب ان لوگوں نے بھی وہی کھیل کھیلنا شروع کردیا ہےیہ بھی پڑھیں گیس کی قیمتیں نہ بڑھائیں تو گردشی قرضوں میں اضافہ ہوجائے گاخیال رہے کہ گزشتہ روز وزیر پیٹرولیم غلام سرور خان نے گیس صارفین کے لیے قیمتوں میں اضافے کا اعلان کرتے ہوئے کہا تھا کہ گیس کی قیمتوں کے سلیب سے بڑھا کر کر دیئے گئے ہیںانہوں نے بتایا تھا کہ برامدی صنعتوں کے لیے گیس کی قیمتوں میں کوئی اضافہ نہیں کیا لیکن نجی سیکٹر میں درامد کی جانے والی سبسڈائز ایل این جی زیرو ریٹڈ صنعتوں کو فراہم کی جائے گیوزیر پیٹرولیم کا کہنا تھا کہ ہم برامدی صنعتوں کو ریلیف دے رہے ہیں اور ہمیں امید ہے کہ ہمارے فیصلے کے بعد بند ہونے والی صنعتیں دوبارہ کھلیں گی اور بیروزگار لوگوں کو روزگار ملے گا\n"
          ]
        }
      ]
    },
    {
      "cell_type": "markdown",
      "metadata": {
        "id": "1iALYwBR0L1E"
      },
      "source": [
        "##Building the LSA Model\n",
        "\n",
        "We are going to first import TfidfVectorizer which will calculate Term Frequency-Inverse Term Frequency of each word and then store it in the vector.\n",
        "\n",
        "We will also calculate SVD (Single Value Decomposition matrix ) using TruncatedSVD function imported from sklearn library."
      ]
    },
    {
      "cell_type": "code",
      "metadata": {
        "id": "W9RH0mXx_i3o"
      },
      "source": [
        "from sklearn.feature_extraction.text import TfidfVectorizer\n",
        "from sklearn.decomposition import TruncatedSVD"
      ],
      "execution_count": 9,
      "outputs": []
    },
    {
      "cell_type": "code",
      "metadata": {
        "colab": {
          "base_uri": "https://localhost:8080/"
        },
        "id": "azgVDJnt_v9d",
        "outputId": "7a501727-fcd1-45ae-9add-e22fa57f4c4c"
      },
      "source": [
        "vectorizer=TfidfVectorizer(stop_words=stopwords_ur,use_idf=True,encoding='utf-8')\n",
        "\n",
        "X=vectorizer.fit_transform(data)"
      ],
      "execution_count": 10,
      "outputs": [
        {
          "output_type": "stream",
          "name": "stderr",
          "text": [
            "/usr/local/lib/python3.7/dist-packages/sklearn/feature_extraction/text.py:385: UserWarning: Your stop_words may be inconsistent with your preprocessing. Tokenizing the stop words generated tokens ['آش', 'ئی', 'ئے', 'اٹھب', 'اپ', 'بة', 'بت', 'برہب', 'برہی', 'برہے', 'بضت', 'بپط', 'بگسیر', 'تبز', 'تی', 'تے', 'ثل', 'دکھب', 'دیکھ', 'ذر', 'ذوثبلا', 'ذکر', 'ذکرو', 'ذی', 'زیبد', 'ضبد', 'ضک', 'ضیک', 'طب', 'طجت', 'طی', 'طے', 'علاو', 'قطہ', 'لگ', 'هوک', 'هڑ', 'وخواى', 'وں', 'پب', 'پرا', 'پط', 'پوچھ', 'چب', 'چبئی', 'چبہ', 'چی', 'چے', 'ڈا', 'ڈلیب', 'ڈو', 'ڈھو', 'ڈی', 'ڈیں', 'کبل', 'کتہ', 'کور', 'کھول', 'کیو', 'گرو', 'ہب', 'یب', 'یقی'] not in stop_words.\n",
            "  'stop_words.' % sorted(inconsistent))\n"
          ]
        }
      ]
    },
    {
      "cell_type": "code",
      "metadata": {
        "colab": {
          "base_uri": "https://localhost:8080/"
        },
        "id": "wjoZhIUtEzfv",
        "outputId": "afde4ff2-8ba9-43be-c972-71b3f0c6385f"
      },
      "source": [
        "print(X.shape)\n",
        "print(X[0])"
      ],
      "execution_count": 11,
      "outputs": [
        {
          "output_type": "stream",
          "name": "stdout",
          "text": [
            "(111862, 404539)\n",
            "  (0, 184959)\t0.03843740045977635\n",
            "  (0, 97899)\t0.052015575572325085\n",
            "  (0, 64711)\t0.061473076570725003\n",
            "  (0, 248874)\t0.025007515189306936\n",
            "  (0, 123217)\t0.05017721746926948\n",
            "  (0, 217927)\t0.0374251455343199\n",
            "  (0, 35260)\t0.0415518105653268\n",
            "  (0, 315548)\t0.04779274920138546\n",
            "  (0, 187440)\t0.07097739937178077\n",
            "  (0, 279498)\t0.06121200419165628\n",
            "  (0, 49841)\t0.05002972480660584\n",
            "  (0, 183748)\t0.05545919506011579\n",
            "  (0, 394684)\t0.046761781930338066\n",
            "  (0, 147046)\t0.05429641195053477\n",
            "  (0, 76119)\t0.03619015163568962\n",
            "  (0, 217441)\t0.03861790958313802\n",
            "  (0, 174595)\t0.08276859544393377\n",
            "  (0, 83378)\t0.04580766663985859\n",
            "  (0, 112374)\t0.03510142913668623\n",
            "  (0, 187473)\t0.05683213969185406\n",
            "  (0, 157481)\t0.0759899972551492\n",
            "  (0, 184048)\t0.0687638363779501\n",
            "  (0, 355920)\t0.05088194058128597\n",
            "  (0, 306449)\t0.04596060033135934\n",
            "  (0, 120380)\t0.021644372952391563\n",
            "  :\t:\n",
            "  (0, 345759)\t0.14683425745306156\n",
            "  (0, 190211)\t0.12785614260385797\n",
            "  (0, 193294)\t0.05030202521905833\n",
            "  (0, 219608)\t0.05104440791338422\n",
            "  (0, 94125)\t0.055519265059146485\n",
            "  (0, 216373)\t0.25218799168207834\n",
            "  (0, 181628)\t0.0941885529152108\n",
            "  (0, 89434)\t0.03946029670711745\n",
            "  (0, 182888)\t0.0835539488559326\n",
            "  (0, 85853)\t0.08116522629131591\n",
            "  (0, 74357)\t0.04506617478578025\n",
            "  (0, 115322)\t0.0327648451495091\n",
            "  (0, 122587)\t0.060986205996517946\n",
            "  (0, 213926)\t0.05109923024147334\n",
            "  (0, 74392)\t0.04570715312111297\n",
            "  (0, 277449)\t0.034646400368489184\n",
            "  (0, 269403)\t0.06205077102081839\n",
            "  (0, 186581)\t0.07728542276344616\n",
            "  (0, 42596)\t0.3671007827678808\n",
            "  (0, 196923)\t0.13175631083333225\n",
            "  (0, 124996)\t0.16926759623007404\n",
            "  (0, 90769)\t0.14126487526008194\n",
            "  (0, 185683)\t0.14698167804538573\n",
            "  (0, 70492)\t0.03257687224221648\n",
            "  (0, 38261)\t0.028346192200795862\n"
          ]
        }
      ]
    },
    {
      "cell_type": "code",
      "metadata": {
        "colab": {
          "base_uri": "https://localhost:8080/"
        },
        "id": "FzQPVWQrHH9G",
        "outputId": "404f370f-a0e7-4b80-f898-c6aa72c58e31"
      },
      "source": [
        "lsa=TruncatedSVD(n_components=5, n_iter=100)\n",
        "lsa.fit(X)"
      ],
      "execution_count": 26,
      "outputs": [
        {
          "output_type": "execute_result",
          "data": {
            "text/plain": [
              "TruncatedSVD(algorithm='randomized', n_components=5, n_iter=100,\n",
              "             random_state=None, tol=0.0)"
            ]
          },
          "metadata": {},
          "execution_count": 26
        }
      ]
    },
    {
      "cell_type": "code",
      "metadata": {
        "colab": {
          "base_uri": "https://localhost:8080/"
        },
        "id": "plFUlL5iHKKr",
        "outputId": "d7c34763-d857-416f-9965-5f3177438ea0"
      },
      "source": [
        "print(len(lsa.components_))\n",
        "print(len(lsa.components_[0])) #lsa.components_ has  element and each element has further ____ elements in it\n",
        "\n",
        "# import numpy as np\n",
        "# num_array=np.array(lsa.components_)\n",
        "# print(np.sum(num_array))"
      ],
      "execution_count": 27,
      "outputs": [
        {
          "output_type": "stream",
          "name": "stdout",
          "text": [
            "5\n",
            "404539\n"
          ]
        }
      ]
    },
    {
      "cell_type": "markdown",
      "metadata": {
        "id": "kYnAm1Bq2Fw2"
      },
      "source": [
        "##Results\n",
        "\n",
        "This code will print all the results and find the topics per document"
      ]
    },
    {
      "cell_type": "code",
      "metadata": {
        "colab": {
          "base_uri": "https://localhost:8080/"
        },
        "id": "3grxLiOoHMW4",
        "outputId": "9be09075-75d1-415d-9bed-7ec1b5f6eaa4"
      },
      "source": [
        "terms=vectorizer.get_feature_names() #it extracts all the actual words corresponding to the id\n",
        "# print(len(terms))\n",
        "for i,comp in enumerate(lsa.components_):\n",
        "  termsInComp=zip(terms,comp) #map the 2 arrays(one array with TF-IDF Scores and other with corresponding word)\n",
        "  sortedTerms=sorted(termsInComp, key=lambda x:x[1], reverse=True) [:50] #sorting to get maximum TF-IDF first and only taking first 10 values of it\n",
        "  print(\"Concept:\",i)\n",
        "  for term in sortedTerms:\n",
        "    print(term[0])\n",
        "  print(\" \")\n",
        "\n"
      ],
      "execution_count": 29,
      "outputs": [
        {
          "output_type": "stream",
          "name": "stdout",
          "text": [
            "Concept: 0\n",
            "ٹیم\n",
            "رنز\n",
            "پاکستان\n",
            "میچ\n",
            "کرکٹ\n",
            "ٹیسٹ\n",
            "سیریز\n",
            "فلم\n",
            "خان\n",
            "کپتان\n",
            "پی\n",
            "خلاف\n",
            "حاصل\n",
            "محمد\n",
            "انگلینڈ\n",
            "ٹی\n",
            "بی\n",
            "کھلاڑیوں\n",
            "شکست\n",
            "کپ\n",
            "وکٹ\n",
            "اننگز\n",
            "سری\n",
            "علی\n",
            "کھلاڑی\n",
            "جانب\n",
            "بھارت\n",
            "ورلڈ\n",
            "پاکستانی\n",
            "ڈے\n",
            "قومی\n",
            "ٹوئنٹی\n",
            "ون\n",
            "تین\n",
            "لینڈ\n",
            "بنا\n",
            "بیٹنگ\n",
            "لنکا\n",
            "جیت\n",
            "روپے\n",
            "بورڈ\n",
            "فائنل\n",
            "سال\n",
            "اسکور\n",
            "احمد\n",
            "میچز\n",
            "نیوزی\n",
            "بلے\n",
            "مطابق\n",
            "کھیل\n",
            " \n",
            "Concept: 1\n",
            "فلم\n",
            "روپے\n",
            "ڈالر\n",
            "ارب\n",
            "قیمت\n",
            "خان\n",
            "کروڑ\n",
            "وڈ\n",
            "مارکیٹ\n",
            "ریلیز\n",
            "سال\n",
            "مطابق\n",
            "کردار\n",
            "فیصد\n",
            "اداکار\n",
            "پیسے\n",
            "ہزار\n",
            "جی\n",
            "بینک\n",
            "لاکھ\n",
            "اضافہ\n",
            "ٹیکس\n",
            "کپور\n",
            "اداکارہ\n",
            "کام\n",
            "حکومت\n",
            "ایف\n",
            "اضافے\n",
            "کہانی\n",
            "قیمتوں\n",
            "فلموں\n",
            "پی\n",
            "ایم\n",
            "جاری\n",
            "فون\n",
            "سونے\n",
            "ایس\n",
            "بولی\n",
            "پڑھیں\n",
            "پیش\n",
            "نئی\n",
            "سطح\n",
            "بالی\n",
            "اسٹاک\n",
            "نظر\n",
            "ئی\n",
            "سلمان\n",
            "انڈیکس\n",
            "مالی\n",
            "بی\n",
            " \n",
            "Concept: 2\n",
            "فلم\n",
            "خان\n",
            "وڈ\n",
            "کردار\n",
            "ریلیز\n",
            "اداکار\n",
            "کپور\n",
            "کہانی\n",
            "اداکارہ\n",
            "فلموں\n",
            "بالی\n",
            "ووڈ\n",
            "بولی\n",
            "رخ\n",
            "سلمان\n",
            "ٹریلر\n",
            "ہالی\n",
            "رنز\n",
            "گھروں\n",
            "سینما\n",
            "شاہ\n",
            "کاسٹ\n",
            "علی\n",
            "بننے\n",
            "کام\n",
            "ایکشن\n",
            "اداکاری\n",
            "نمائش\n",
            "نظر\n",
            "زندگی\n",
            "ادا\n",
            "مرکزی\n",
            "شوٹنگ\n",
            "بھرپور\n",
            "عامر\n",
            "شادی\n",
            "فلمیں\n",
            "ایوارڈ\n",
            "گانے\n",
            "جوہر\n",
            "زینت\n",
            "ہدایت\n",
            "دپیکا\n",
            "ائیں\n",
            "گھومتی\n",
            "سنگھ\n",
            "باکس\n",
            "کامیڈی\n",
            "بہترین\n",
            "ممبئی\n",
            " \n",
            "Concept: 3\n",
            "رنز\n",
            "روپے\n",
            "فلم\n",
            "اننگز\n",
            "وکٹ\n",
            "ڈالر\n",
            "بنا\n",
            "قیمت\n",
            "مارکیٹ\n",
            "اسکور\n",
            "پیسے\n",
            "وکٹوں\n",
            "وکٹیں\n",
            "سونے\n",
            "بنائے\n",
            "اضافے\n",
            "بناکر\n",
            "ہدف\n",
            "اٹ\n",
            "اضافہ\n",
            "اوورز\n",
            "ہزار\n",
            "پویلین\n",
            "نقصان\n",
            "بیٹنگ\n",
            "کروڑ\n",
            "انڈیکس\n",
            "پوائنٹس\n",
            "حاصل\n",
            "سنچری\n",
            "قیمتوں\n",
            "اسٹاک\n",
            "ارب\n",
            "بلے\n",
            "گیند\n",
            "گیندوں\n",
            "تولہ\n",
            "شراکت\n",
            "اننگ\n",
            "سطح\n",
            "اوور\n",
            "شاندار\n",
            "روز\n",
            "جیت\n",
            "قدر\n",
            "ٹاس\n",
            "لوٹ\n",
            "رن\n",
            "مجموعی\n",
            "کاروبار\n",
            " \n",
            "Concept: 4\n",
            "رنز\n",
            "فون\n",
            "جی\n",
            "صارفین\n",
            "بک\n",
            "فیس\n",
            "ایپ\n",
            "کمپنی\n",
            "ایف\n",
            "ٹیکس\n",
            "ئی\n",
            "ایس\n",
            "بی\n",
            "متعارف\n",
            "ایم\n",
            "پی\n",
            "فیچر\n",
            "استعمال\n",
            "گیس\n",
            "این\n",
            "ایل\n",
            "فونز\n",
            "اسمارٹ\n",
            "گوگل\n",
            "فیصد\n",
            "جانب\n",
            "موبائل\n",
            "واٹس\n",
            "بنا\n",
            "سنگ\n",
            "ڈی\n",
            "اننگز\n",
            "ایپل\n",
            "سام\n",
            "پکسل\n",
            "حکومت\n",
            "سال\n",
            "وکٹ\n",
            "ویڈیو\n",
            "بجلی\n",
            "گلیکسی\n",
            "فراہم\n",
            "ٹیکنالوجی\n",
            "نئے\n",
            "ارب\n",
            "بتایا\n",
            "اپ\n",
            "مدد\n",
            "پڑھیں\n",
            "مالی\n",
            " \n"
          ]
        }
      ]
    }
  ]
}