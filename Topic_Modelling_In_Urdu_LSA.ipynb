{
  "nbformat": 4,
  "nbformat_minor": 0,
  "metadata": {
    "colab": {
      "name": "Topic_Modelling_In_Urdu_LSA.ipynb",
      "provenance": [],
      "collapsed_sections": [],
      "toc_visible": true
    },
    "kernelspec": {
      "name": "python3",
      "display_name": "Python 3"
    },
    "language_info": {
      "name": "python"
    }
  },
  "cells": [
    {
      "cell_type": "markdown",
      "metadata": {
        "id": "QpS4n9cCptnG"
      },
      "source": [
        "##Topic Modelling in Urdu by using LSA model\n",
        "In this notebook we are going to implement LSA (Latent Semantic Analysis) model for urdu language."
      ]
    },
    {
      "cell_type": "markdown",
      "metadata": {
        "id": "O0N9NikpqSGt"
      },
      "source": [
        "#Mounting Google Drive with Collaboratory\n",
        "If your dataset is present in google drive then do this step and join your google drive with collaboratory."
      ]
    },
    {
      "cell_type": "code",
      "metadata": {
        "colab": {
          "base_uri": "https://localhost:8080/"
        },
        "id": "QPk_VKA4_Fzd",
        "outputId": "829b2018-e77e-4258-90f4-2ef14bfa428a"
      },
      "source": [
        "from google.colab import drive\n",
        "drive.mount('/content/gdrive')"
      ],
      "execution_count": 1,
      "outputs": [
        {
          "output_type": "stream",
          "name": "stdout",
          "text": [
            "Mounted at /content/gdrive\n"
          ]
        }
      ]
    },
    {
      "cell_type": "markdown",
      "metadata": {
        "id": "abmmbU2utCl4"
      },
      "source": [
        "##Importing Dependencicies\n",
        "We will import the required libraries which we are going to work in this notebook. Some of the libraries will be imported later as we build the model."
      ]
    },
    {
      "cell_type": "code",
      "metadata": {
        "id": "MaB6qj7W_JaL"
      },
      "source": [
        "import pandas as pd\n",
        "import numpy as np\n",
        "import re"
      ],
      "execution_count": 2,
      "outputs": []
    },
    {
      "cell_type": "markdown",
      "metadata": {
        "id": "97BDs0oktZqZ"
      },
      "source": [
        "##Peeking the data\n",
        "\n",
        "The we are going to reda csv file contaning more than 1 Million news from different sources related to different categories.\n",
        "\n",
        "df.head() will print the firt 5 rows of the dataset.\n",
        "\n",
        "[Dataset](https://data.mendeley.com/datasets/834vsxnb99/3)"
      ]
    },
    {
      "cell_type": "code",
      "metadata": {
        "colab": {
          "base_uri": "https://localhost:8080/",
          "height": 445
        },
        "id": "LZT8WGYz_N5v",
        "outputId": "01b0d0e3-0d63-40f1-a21a-c4fcfdab4aa9"
      },
      "source": [
        "df = pd.read_csv('/content/gdrive/MyDrive/Dataset(Colab)/UrduTopicModelling/urdu-news-dataset-1M.csv',encoding='utf-8')\n",
        "df.head()"
      ],
      "execution_count": 3,
      "outputs": [
        {
          "output_type": "stream",
          "name": "stderr",
          "text": [
            "/usr/local/lib/python3.7/dist-packages/IPython/core/interactiveshell.py:2718: DtypeWarning: Columns (0) have mixed types.Specify dtype option on import or set low_memory=False.\n",
            "  interactivity=interactivity, compiler=compiler, result=result)\n"
          ]
        },
        {
          "output_type": "execute_result",
          "data": {
            "text/html": [
              "<div>\n",
              "<style scoped>\n",
              "    .dataframe tbody tr th:only-of-type {\n",
              "        vertical-align: middle;\n",
              "    }\n",
              "\n",
              "    .dataframe tbody tr th {\n",
              "        vertical-align: top;\n",
              "    }\n",
              "\n",
              "    .dataframe thead th {\n",
              "        text-align: right;\n",
              "    }\n",
              "</style>\n",
              "<table border=\"1\" class=\"dataframe\">\n",
              "  <thead>\n",
              "    <tr style=\"text-align: right;\">\n",
              "      <th></th>\n",
              "      <th>Index</th>\n",
              "      <th>Headline</th>\n",
              "      <th>News Text</th>\n",
              "      <th>Category</th>\n",
              "      <th>Date</th>\n",
              "      <th>URL</th>\n",
              "      <th>Source</th>\n",
              "      <th>News length</th>\n",
              "    </tr>\n",
              "  </thead>\n",
              "  <tbody>\n",
              "    <tr>\n",
              "      <th>0</th>\n",
              "      <td>0</td>\n",
              "      <td>عالمی بینک عسکریت پسندی سے متاثرہ خاندانوں کی ...</td>\n",
              "      <td>اسلام باد عالمی بینک خیبرپختونخوا کے قبائلی اض...</td>\n",
              "      <td>Business &amp; Economics</td>\n",
              "      <td>12/6/2020</td>\n",
              "      <td>https://www.dawnnews.tv/news/1148499/</td>\n",
              "      <td>Dawn News</td>\n",
              "      <td>1854.0</td>\n",
              "    </tr>\n",
              "    <tr>\n",
              "      <th>1</th>\n",
              "      <td>1</td>\n",
              "      <td>مالی سال 2020 ریٹرن فائل کرنے والوں کی تعداد م...</td>\n",
              "      <td>اسلام باد فیڈرل بورڈ ریونیو ایف بی نے دسمبر کی...</td>\n",
              "      <td>Business &amp; Economics</td>\n",
              "      <td>12/6/2020</td>\n",
              "      <td>https://www.dawnnews.tv/news/1148498/</td>\n",
              "      <td>Dawn News</td>\n",
              "      <td>2016.0</td>\n",
              "    </tr>\n",
              "    <tr>\n",
              "      <th>2</th>\n",
              "      <td>2</td>\n",
              "      <td>جاپان کو سندھ کے خصوصی اقتصادی زون میں سرمایہ ...</td>\n",
              "      <td>اسلام باد بورڈ انویسٹمنٹ بی او ئی کے چیئرمین ع...</td>\n",
              "      <td>Business &amp; Economics</td>\n",
              "      <td>12/5/2020</td>\n",
              "      <td>https://www.dawnnews.tv/news/1148433/</td>\n",
              "      <td>Dawn News</td>\n",
              "      <td>2195.0</td>\n",
              "    </tr>\n",
              "    <tr>\n",
              "      <th>3</th>\n",
              "      <td>3</td>\n",
              "      <td>برامدات 767 فیصد بڑھ کر ارب 16 کروڑ ڈالر سے زائد</td>\n",
              "      <td>اسلام اباد پاکستان میں ماہ نومبر میں مسلسل تیس...</td>\n",
              "      <td>Business &amp; Economics</td>\n",
              "      <td>12/5/2020</td>\n",
              "      <td>https://www.dawnnews.tv/news/1148430/</td>\n",
              "      <td>Dawn News</td>\n",
              "      <td>2349.0</td>\n",
              "    </tr>\n",
              "    <tr>\n",
              "      <th>4</th>\n",
              "      <td>4</td>\n",
              "      <td>کے الیکٹرک کو اضافی بجلی گیس کی فراہمی کے قانو...</td>\n",
              "      <td>اسلام باد نیشنل ٹرانسمیشن اینڈ ڈسپیچ کمپنی این...</td>\n",
              "      <td>Business &amp; Economics</td>\n",
              "      <td>12/5/2020</td>\n",
              "      <td>https://www.dawnnews.tv/news/1148421/</td>\n",
              "      <td>Dawn News</td>\n",
              "      <td>2655.0</td>\n",
              "    </tr>\n",
              "  </tbody>\n",
              "</table>\n",
              "</div>"
            ],
            "text/plain": [
              "  Index  ... News length\n",
              "0     0  ...      1854.0\n",
              "1     1  ...      2016.0\n",
              "2     2  ...      2195.0\n",
              "3     3  ...      2349.0\n",
              "4     4  ...      2655.0\n",
              "\n",
              "[5 rows x 8 columns]"
            ]
          },
          "metadata": {},
          "execution_count": 3
        }
      ]
    },
    {
      "cell_type": "markdown",
      "metadata": {
        "id": "VxBoR9G-t23k"
      },
      "source": [
        "##Preprocessing of the Dataset\n",
        "\n",
        "We will remove some extra coloumns first like date,source,url and some other columns too. Because we want only news foe now and all other things are extra for us.\n",
        "\n",
        "There are 5 types of news in the data set. If you want, you can use only 1 or 2 types of news in the example. But for this Notebook i am going to take all types of news for Topic Modelling."
      ]
    },
    {
      "cell_type": "code",
      "metadata": {
        "id": "pej-5SKX_PpE",
        "outputId": "aac28d37-d1d5-4934-80c0-0c4ea63d40e8",
        "colab": {
          "base_uri": "https://localhost:8080/",
          "height": 204
        }
      },
      "source": [
        "data_pre=df.drop(columns=['Index','Date','URL','Source','News length'])\n",
        "data_pre.head()\n",
        "# data_pre=data_pre.loc[df['Category'] == 'Business & Economics']"
      ],
      "execution_count": 4,
      "outputs": [
        {
          "output_type": "execute_result",
          "data": {
            "text/html": [
              "<div>\n",
              "<style scoped>\n",
              "    .dataframe tbody tr th:only-of-type {\n",
              "        vertical-align: middle;\n",
              "    }\n",
              "\n",
              "    .dataframe tbody tr th {\n",
              "        vertical-align: top;\n",
              "    }\n",
              "\n",
              "    .dataframe thead th {\n",
              "        text-align: right;\n",
              "    }\n",
              "</style>\n",
              "<table border=\"1\" class=\"dataframe\">\n",
              "  <thead>\n",
              "    <tr style=\"text-align: right;\">\n",
              "      <th></th>\n",
              "      <th>Headline</th>\n",
              "      <th>News Text</th>\n",
              "      <th>Category</th>\n",
              "    </tr>\n",
              "  </thead>\n",
              "  <tbody>\n",
              "    <tr>\n",
              "      <th>0</th>\n",
              "      <td>عالمی بینک عسکریت پسندی سے متاثرہ خاندانوں کی ...</td>\n",
              "      <td>اسلام باد عالمی بینک خیبرپختونخوا کے قبائلی اض...</td>\n",
              "      <td>Business &amp; Economics</td>\n",
              "    </tr>\n",
              "    <tr>\n",
              "      <th>1</th>\n",
              "      <td>مالی سال 2020 ریٹرن فائل کرنے والوں کی تعداد م...</td>\n",
              "      <td>اسلام باد فیڈرل بورڈ ریونیو ایف بی نے دسمبر کی...</td>\n",
              "      <td>Business &amp; Economics</td>\n",
              "    </tr>\n",
              "    <tr>\n",
              "      <th>2</th>\n",
              "      <td>جاپان کو سندھ کے خصوصی اقتصادی زون میں سرمایہ ...</td>\n",
              "      <td>اسلام باد بورڈ انویسٹمنٹ بی او ئی کے چیئرمین ع...</td>\n",
              "      <td>Business &amp; Economics</td>\n",
              "    </tr>\n",
              "    <tr>\n",
              "      <th>3</th>\n",
              "      <td>برامدات 767 فیصد بڑھ کر ارب 16 کروڑ ڈالر سے زائد</td>\n",
              "      <td>اسلام اباد پاکستان میں ماہ نومبر میں مسلسل تیس...</td>\n",
              "      <td>Business &amp; Economics</td>\n",
              "    </tr>\n",
              "    <tr>\n",
              "      <th>4</th>\n",
              "      <td>کے الیکٹرک کو اضافی بجلی گیس کی فراہمی کے قانو...</td>\n",
              "      <td>اسلام باد نیشنل ٹرانسمیشن اینڈ ڈسپیچ کمپنی این...</td>\n",
              "      <td>Business &amp; Economics</td>\n",
              "    </tr>\n",
              "  </tbody>\n",
              "</table>\n",
              "</div>"
            ],
            "text/plain": [
              "                                            Headline  ...              Category\n",
              "0  عالمی بینک عسکریت پسندی سے متاثرہ خاندانوں کی ...  ...  Business & Economics\n",
              "1  مالی سال 2020 ریٹرن فائل کرنے والوں کی تعداد م...  ...  Business & Economics\n",
              "2  جاپان کو سندھ کے خصوصی اقتصادی زون میں سرمایہ ...  ...  Business & Economics\n",
              "3   برامدات 767 فیصد بڑھ کر ارب 16 کروڑ ڈالر سے زائد  ...  Business & Economics\n",
              "4  کے الیکٹرک کو اضافی بجلی گیس کی فراہمی کے قانو...  ...  Business & Economics\n",
              "\n",
              "[5 rows x 3 columns]"
            ]
          },
          "metadata": {},
          "execution_count": 4
        }
      ]
    },
    {
      "cell_type": "markdown",
      "metadata": {
        "id": "9ZmCvGtAxp1O"
      },
      "source": [
        "We are going to remove all the extra ppunctuation marks, new line characters, tab space character and all other special characters from the text using <b>re</b> library"
      ]
    },
    {
      "cell_type": "code",
      "metadata": {
        "colab": {
          "base_uri": "https://localhost:8080/"
        },
        "id": "D2gIGaID_R-y",
        "outputId": "28e37cea-e86b-4e5c-9ec5-78a16a910449"
      },
      "source": [
        "data_pre['News Text'] = \\\n",
        "data_pre['News Text'].map(lambda x: re.sub('[,\\\\.!?]', '', str(x)))\n",
        "data_pre['News Text'].head()"
      ],
      "execution_count": 5,
      "outputs": [
        {
          "output_type": "execute_result",
          "data": {
            "text/plain": [
              "0    اسلام باد عالمی بینک خیبرپختونخوا کے قبائلی اض...\n",
              "1    اسلام باد فیڈرل بورڈ ریونیو ایف بی نے دسمبر کی...\n",
              "2    اسلام باد بورڈ انویسٹمنٹ بی او ئی کے چیئرمین ع...\n",
              "3    اسلام اباد پاکستان میں ماہ نومبر میں مسلسل تیس...\n",
              "4    اسلام باد نیشنل ٹرانسمیشن اینڈ ڈسپیچ کمپنی این...\n",
              "Name: News Text, dtype: object"
            ]
          },
          "metadata": {},
          "execution_count": 5
        }
      ]
    },
    {
      "cell_type": "markdown",
      "metadata": {
        "id": "sCMR90hHywa6"
      },
      "source": [
        "##Stopwords\n",
        "In nltk library there are many individual libraries for stopwords in different languages. If you found stopwords in urdu language in future then import nltk library and download them and use them. Otherwise I have make a stopword library in urdu by combining 3,4 different stopwords libraries. Now my stopword library has more than 900 stopwords in it. This is still not enough but if you want to add more stopwords in it then you can contribute to my github repository.\n",
        "\n",
        "The stopword liibrary i have used is given in my repository which is on the link below:\n",
        "\n",
        "[Stopwords Library](https://github.com/talhamasood0000/Topic_modelling_in_Urdu_LDA)"
      ]
    },
    {
      "cell_type": "code",
      "metadata": {
        "colab": {
          "base_uri": "https://localhost:8080/"
        },
        "id": "UsaE3I49_ZF7",
        "outputId": "e5ca82db-f127-434c-8378-cc1d0c1c72c1"
      },
      "source": [
        "import nltk\n",
        "stopwords=pd.read_csv('/content/gdrive/MyDrive/Dataset(Colab)/UrduTopicModelling/stopwords_updated.txt',names=['List'])\n",
        "# stopwords['List']\n",
        "\n",
        "stopwords_ur=[]\n",
        "for li in stopwords['List']:\n",
        "  stopwords_ur.append(li)\n",
        "\n",
        "print(len(stopwords_ur))"
      ],
      "execution_count": 6,
      "outputs": [
        {
          "output_type": "stream",
          "name": "stdout",
          "text": [
            "907\n"
          ]
        }
      ]
    },
    {
      "cell_type": "markdown",
      "metadata": {
        "id": "GeDi4z4ey0N8"
      },
      "source": [
        "##Gensim\n",
        "\n",
        "Gensim is the library that mainly focuses on Topic Modelling. It has all the models implemented in it and you just have to use them by applying input and parameters"
      ]
    },
    {
      "cell_type": "code",
      "metadata": {
        "id": "YQ38NqDG_aIk"
      },
      "source": [
        "import gensim\n",
        "from gensim.utils import simple_preprocess\n",
        "def sent_to_words(sentences):\n",
        "    for sentence in sentences:\n",
        "        # deacc=True removes punctuations\n",
        "        yield(gensim.utils.simple_preprocess(str(sentence), deacc=True))"
      ],
      "execution_count": 7,
      "outputs": []
    },
    {
      "cell_type": "markdown",
      "metadata": {
        "id": "rUGkUYMbzab9"
      },
      "source": [
        "The data variable is an arry in which each index is 1 news."
      ]
    },
    {
      "cell_type": "code",
      "metadata": {
        "colab": {
          "base_uri": "https://localhost:8080/"
        },
        "id": "2aGfSaWK_gfs",
        "outputId": "d3b3e752-9552-4825-ed13-f2d5bb15f8aa"
      },
      "source": [
        "data = data_pre['News Text'].values.tolist()\n",
        "print((data[19]))"
      ],
      "execution_count": 8,
      "outputs": [
        {
          "output_type": "stream",
          "name": "stdout",
          "text": [
            "ممبئی بھارت کی معیشت جولائی اور ستمبر کے دوران 75 فیصد سکڑنے سے بدترین کارکردگی کا مظاہرہ کرنے والی بڑی ترقی یافتہ اور ابھرتی ہوئی معیشتوں میں شامل ہوگئی کیونکہ یہ ازادی کے بعد پہلی مرتبہ تکنیکی کساد بازاری میں داخل ہوئی ہےڈان اخبار میں شائع فرانسیسی خبررساں ادارے اے ایف پی کی رپورٹ میں بتایا گیا کہ سرکاری اعداد شمار ظاہر کرتے ہیں کہ معیشت کساد بازاری میں داخل ہوگئی ہےاگرچہ گزشتہ سہ ماہی میں ریکارڈ 239 فیصد سکڑنے کے مقابلے میں اعداد شمار میں بہتری تھی تاہم یہ اس طرف اشارہ کرتے ہیں کہ ایشیا کی تیسری بڑی معیشت سخت مقابلہ کر رہی ہے کیونکہ یہ طلب کو بحال کرنے اور روزگار پیدا کرنے کی کوششوں میں ہے جبکہ کورونا وائرس کا انفیکشن بڑھ رہا ہےمزید پڑھیں بھارت میں کورونا کی ابتر صورتحال ایک دن میں 90 ہزار سے زائد کیسز رپورٹتاہم مسلسل سہ ماہیوں میں معیشت کے سکڑنے کا مطلب ہے کہ ملک 1947 کے بعد سے پہلی مرتبہ تکنیکی کساد بزاری میں داخل ہوگیا ہےوائرس سے متعلق لاک ڈانز سے ہونے والی عالمی تباہی کے بعد امریکا جاپان اور جرمنی سمیت بڑی معیشتوں کی جانب سے 30 ستمبر کو ختم ہونے والی سہ ماہی میں ریکارڈ کی گئی ترقی نے توقعات کو بڑھا دیا ہے کہ بھارت بھی بحالی سے مستفید ہوگااگرچہ اکتوبر اور نومبر میں تہواروں کے سیزن کے باعث صارفین کے کاروبار میں اضافہ دیکھنے میں ایا تاہم تعمیراتی اور مہمان نوازی کے شعبے متاثر ہونے سے وسیع پیمانے پر بحالی کی امیدیں ختم ہوگئیںلاک ڈان کی وجہ سے گزشتہ سہ ماہی میں تقریبا 40 فیصد کمی کے بعد جولائی سے ستمبر کے دوران مینوفکچرنگ کی سرگرمی میں اضافہ ہوا جبکہ کاشتکاری بھی نسبتا بہتر رہیتجزیہ کاروں کا کہنا تھا کہ اعداد شمار حوصلہ افزا ہیں جس سے یہ اندازہ ہوتا ہے کہ اگلی سہ ماہی میں معیشت کی بہتری کا امکان ہوگابروڈا کے اسٹیٹ بینک کے چیف اقتصادیات سمیر نارنگ کا کہنا تھا کہ تمام اشاروں کو دیکھتے ہوئے بھارتی معیشت کے لیے بدترین صورتحال ختم ہوگئی ہم مسلسل بہتری دیکھیں گے اور اگے بڑھیں گےان کا کہنا تھا کہ جمعہ کے اعداد شمار نے فیصد سکڑنے کے بینک کے تخمینے کو غلط ثابت کردیا ساتھ ہی انہوں نے کہا کہ معاشی بحالی کے امکانات تب تک ہیں جب تک انفیکشن بڑھنے پر کوئی نیا لاک ڈان نہیں لگتاکوانٹ ایکو ریسرچ کے ماہر معاشیات وویک کمار کا کہنا تھا کہ مارچ کے اخر میں ہونے والے مہینوں میں طویل لاک ڈان کی وجہ سے فیکٹریوں کی طویل بندش کے خاتمے کے بعد مینوفکچرنگ میں اضافہ بھارت کے لیے اچھا ہےیہ بھی پڑھیں بھارت کورونا کے کیسز میں اضافے کے بعد متعدد ریاستوں میں دوبارہ لاک ڈان نافذواضح رہے کہ بھارت کے مرکزی بینک کے گورنر شکتی کانتا داس کے گزشتہ ماہ کے جاری کردہ اندازے کے مطابق نئی دہلی نے اپنی اس معیشت کی بحالی کے لیے جدوجہد شروع کی ہے جس کا رواں سال 95 فیصد تک سکڑنے کا امکان ہےوہیں عالمی مالیاتی فنڈ ائی ایم ایف نے پیش گوئی کی ہے کہ بھارت کی معیشت رواں سال 103 فیصد تک سکڑ جائے گی جو کسی بڑی ابھرتی ہوئی معیشت کے لیے سب سے بڑا بحران ہے اور یہ ازادی کے بعد سے بدترین ہےعلاوہ ازیں رواں ماہ کے اوائل میں اکسفورڈ اکنامکس کی جاری کردہ رپورٹ میں کہا گیا تھا کہ وبائی مرض سے لگنے والی پابندیوں میں نرمی کے بعد بھارت کی معیشت بدترین متاثرہ ہوگی اور 2025 تک سالانہ پیداوار وائرس سے پہلے کی سطح سے 12 فیصد کم ہوگی\n"
          ]
        }
      ]
    },
    {
      "cell_type": "markdown",
      "metadata": {
        "id": "1iALYwBR0L1E"
      },
      "source": [
        "##Building the LSA Model\n",
        "\n",
        "We are going to first import TfidfVectorizer which will calculate Term Frequency-Inverse Term Frequency of each word and then store it in the vector.\n",
        "\n",
        "We will also calculate SVD (Single Value Decomposition matrix ) using TruncatedSVD function imported from sklearn library."
      ]
    },
    {
      "cell_type": "code",
      "metadata": {
        "id": "W9RH0mXx_i3o"
      },
      "source": [
        "from sklearn.feature_extraction.text import TfidfVectorizer\n",
        "from sklearn.decomposition import TruncatedSVD"
      ],
      "execution_count": 9,
      "outputs": []
    },
    {
      "cell_type": "code",
      "metadata": {
        "colab": {
          "base_uri": "https://localhost:8080/"
        },
        "id": "azgVDJnt_v9d",
        "outputId": "7a501727-fcd1-45ae-9add-e22fa57f4c4c"
      },
      "source": [
        "vectorizer=TfidfVectorizer(stop_words=stopwords_ur,use_idf=True,encoding='utf-8')\n",
        "\n",
        "X=vectorizer.fit_transform(data)"
      ],
      "execution_count": 10,
      "outputs": [
        {
          "output_type": "stream",
          "name": "stderr",
          "text": [
            "/usr/local/lib/python3.7/dist-packages/sklearn/feature_extraction/text.py:385: UserWarning: Your stop_words may be inconsistent with your preprocessing. Tokenizing the stop words generated tokens ['آش', 'ئی', 'ئے', 'اٹھب', 'اپ', 'بة', 'بت', 'برہب', 'برہی', 'برہے', 'بضت', 'بپط', 'بگسیر', 'تبز', 'تی', 'تے', 'ثل', 'دکھب', 'دیکھ', 'ذر', 'ذوثبلا', 'ذکر', 'ذکرو', 'ذی', 'زیبد', 'ضبد', 'ضک', 'ضیک', 'طب', 'طجت', 'طی', 'طے', 'علاو', 'قطہ', 'لگ', 'هوک', 'هڑ', 'وخواى', 'وں', 'پب', 'پرا', 'پط', 'پوچھ', 'چب', 'چبئی', 'چبہ', 'چی', 'چے', 'ڈا', 'ڈلیب', 'ڈو', 'ڈھو', 'ڈی', 'ڈیں', 'کبل', 'کتہ', 'کور', 'کھول', 'کیو', 'گرو', 'ہب', 'یب', 'یقی'] not in stop_words.\n",
            "  'stop_words.' % sorted(inconsistent))\n"
          ]
        }
      ]
    },
    {
      "cell_type": "code",
      "metadata": {
        "colab": {
          "base_uri": "https://localhost:8080/"
        },
        "id": "wjoZhIUtEzfv",
        "outputId": "afde4ff2-8ba9-43be-c972-71b3f0c6385f"
      },
      "source": [
        "print(X.shape)\n",
        "print(X[0])"
      ],
      "execution_count": 11,
      "outputs": [
        {
          "output_type": "stream",
          "name": "stdout",
          "text": [
            "(111862, 404539)\n",
            "  (0, 184959)\t0.03843740045977635\n",
            "  (0, 97899)\t0.052015575572325085\n",
            "  (0, 64711)\t0.061473076570725003\n",
            "  (0, 248874)\t0.025007515189306936\n",
            "  (0, 123217)\t0.05017721746926948\n",
            "  (0, 217927)\t0.0374251455343199\n",
            "  (0, 35260)\t0.0415518105653268\n",
            "  (0, 315548)\t0.04779274920138546\n",
            "  (0, 187440)\t0.07097739937178077\n",
            "  (0, 279498)\t0.06121200419165628\n",
            "  (0, 49841)\t0.05002972480660584\n",
            "  (0, 183748)\t0.05545919506011579\n",
            "  (0, 394684)\t0.046761781930338066\n",
            "  (0, 147046)\t0.05429641195053477\n",
            "  (0, 76119)\t0.03619015163568962\n",
            "  (0, 217441)\t0.03861790958313802\n",
            "  (0, 174595)\t0.08276859544393377\n",
            "  (0, 83378)\t0.04580766663985859\n",
            "  (0, 112374)\t0.03510142913668623\n",
            "  (0, 187473)\t0.05683213969185406\n",
            "  (0, 157481)\t0.0759899972551492\n",
            "  (0, 184048)\t0.0687638363779501\n",
            "  (0, 355920)\t0.05088194058128597\n",
            "  (0, 306449)\t0.04596060033135934\n",
            "  (0, 120380)\t0.021644372952391563\n",
            "  :\t:\n",
            "  (0, 345759)\t0.14683425745306156\n",
            "  (0, 190211)\t0.12785614260385797\n",
            "  (0, 193294)\t0.05030202521905833\n",
            "  (0, 219608)\t0.05104440791338422\n",
            "  (0, 94125)\t0.055519265059146485\n",
            "  (0, 216373)\t0.25218799168207834\n",
            "  (0, 181628)\t0.0941885529152108\n",
            "  (0, 89434)\t0.03946029670711745\n",
            "  (0, 182888)\t0.0835539488559326\n",
            "  (0, 85853)\t0.08116522629131591\n",
            "  (0, 74357)\t0.04506617478578025\n",
            "  (0, 115322)\t0.0327648451495091\n",
            "  (0, 122587)\t0.060986205996517946\n",
            "  (0, 213926)\t0.05109923024147334\n",
            "  (0, 74392)\t0.04570715312111297\n",
            "  (0, 277449)\t0.034646400368489184\n",
            "  (0, 269403)\t0.06205077102081839\n",
            "  (0, 186581)\t0.07728542276344616\n",
            "  (0, 42596)\t0.3671007827678808\n",
            "  (0, 196923)\t0.13175631083333225\n",
            "  (0, 124996)\t0.16926759623007404\n",
            "  (0, 90769)\t0.14126487526008194\n",
            "  (0, 185683)\t0.14698167804538573\n",
            "  (0, 70492)\t0.03257687224221648\n",
            "  (0, 38261)\t0.028346192200795862\n"
          ]
        }
      ]
    },
    {
      "cell_type": "code",
      "metadata": {
        "colab": {
          "base_uri": "https://localhost:8080/"
        },
        "id": "FzQPVWQrHH9G",
        "outputId": "845328d5-06b7-4304-d8b8-cec887f81017"
      },
      "source": [
        "lsa=TruncatedSVD(n_components=5, n_iter=100)\n",
        "lsa.fit(X)"
      ],
      "execution_count": 13,
      "outputs": [
        {
          "output_type": "execute_result",
          "data": {
            "text/plain": [
              "TruncatedSVD(algorithm='randomized', n_components=5, n_iter=100,\n",
              "             random_state=None, tol=0.0)"
            ]
          },
          "metadata": {},
          "execution_count": 13
        }
      ]
    },
    {
      "cell_type": "code",
      "metadata": {
        "colab": {
          "base_uri": "https://localhost:8080/"
        },
        "id": "plFUlL5iHKKr",
        "outputId": "5be8ccea-af8d-428b-cd38-d579764639db"
      },
      "source": [
        "print(len(lsa.components_))\n",
        "print(len(lsa.components_[0])) #lsa.components_ has  element and each element has further ____ elements in it\n",
        "\n",
        "# import numpy as np\n",
        "# num_array=np.array(lsa.components_)\n",
        "# print(np.sum(num_array))"
      ],
      "execution_count": 16,
      "outputs": [
        {
          "output_type": "stream",
          "name": "stdout",
          "text": [
            "5\n",
            "404539\n"
          ]
        }
      ]
    },
    {
      "cell_type": "markdown",
      "metadata": {
        "id": "kYnAm1Bq2Fw2"
      },
      "source": [
        "##Results\n",
        "\n",
        "This code will print all the results and find the topics per document"
      ]
    },
    {
      "cell_type": "code",
      "metadata": {
        "colab": {
          "base_uri": "https://localhost:8080/"
        },
        "id": "3grxLiOoHMW4",
        "outputId": "02c759cf-daa2-48f8-e598-2df4019bdbe8"
      },
      "source": [
        "terms=vectorizer.get_feature_names() #it extracts all the actual words corresponding to the id\n",
        "# print(len(terms))\n",
        "for i,comp in enumerate(lsa.components_):\n",
        "  termsInComp=zip(terms,comp) #map the 2 arrays(one array with TF-IDF Scores and other with corresponding word)\n",
        "  sortedTerms=sorted(termsInComp, key=lambda x:x[1], reverse=True) [:10] #sorting to get maximum TF-IDF first and only taking first 10 values of it\n",
        "  print(\"Concept:\",i)\n",
        "  for term in sortedTerms:\n",
        "    print(term[0])\n",
        "  print(\" \")\n",
        "  if i==5:\n",
        "    break\n"
      ],
      "execution_count": 15,
      "outputs": [
        {
          "output_type": "stream",
          "name": "stdout",
          "text": [
            "Concept: 0\n",
            "ٹیم\n",
            "رنز\n",
            "پاکستان\n",
            "میچ\n",
            "کرکٹ\n",
            "ٹیسٹ\n",
            "سیریز\n",
            "فلم\n",
            "خان\n",
            "کپتان\n",
            " \n",
            "Concept: 1\n",
            "فلم\n",
            "روپے\n",
            "ڈالر\n",
            "ارب\n",
            "قیمت\n",
            "خان\n",
            "کروڑ\n",
            "وڈ\n",
            "مارکیٹ\n",
            "ریلیز\n",
            " \n",
            "Concept: 2\n",
            "فلم\n",
            "خان\n",
            "وڈ\n",
            "کردار\n",
            "ریلیز\n",
            "اداکار\n",
            "کپور\n",
            "کہانی\n",
            "اداکارہ\n",
            "فلموں\n",
            " \n",
            "Concept: 3\n",
            "رنز\n",
            "روپے\n",
            "فلم\n",
            "اننگز\n",
            "وکٹ\n",
            "ڈالر\n",
            "بنا\n",
            "قیمت\n",
            "مارکیٹ\n",
            "اسکور\n",
            " \n",
            "Concept: 4\n",
            "رنز\n",
            "فون\n",
            "جی\n",
            "صارفین\n",
            "بک\n",
            "فیس\n",
            "ایپ\n",
            "کمپنی\n",
            "ایف\n",
            "ٹیکس\n",
            " \n"
          ]
        }
      ]
    }
  ]
}